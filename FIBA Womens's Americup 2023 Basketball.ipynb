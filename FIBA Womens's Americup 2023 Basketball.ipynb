{
 "cells": [
  {
   "cell_type": "code",
   "execution_count": 1,
   "id": "18e82f24",
   "metadata": {},
   "outputs": [],
   "source": [
    "# Importar bibliotecas\n",
    "from selenium import webdriver\n",
    "from selenium.webdriver.chrome.service import Service\n",
    "from selenium.webdriver.support.ui import Select\n",
    "import pandas as pd\n",
    "import time\n",
    "from webdriver_manager.chrome import ChromeDriverManager\n",
    "from selenium.webdriver.common.by import By\n",
    "from selenium.webdriver.support.ui import WebDriverWait\n",
    "from selenium.webdriver.support import expected_conditions as EC\n",
    "from selenium.webdriver.common.action_chains import ActionChains\n",
    "from selenium.webdriver.common.by import By\n",
    "from selenium.common.exceptions import TimeoutException, NoSuchElementException\n",
    "from selenium.common.exceptions import StaleElementReferenceException"
   ]
  },
  {
   "cell_type": "code",
   "execution_count": 2,
   "id": "6144032e",
   "metadata": {},
   "outputs": [],
   "source": [
    "# Instalar Webdriver\n",
    "service = Service(ChromeDriverManager().install())\n",
    "# Abrir aba Web\n",
    "driver = webdriver.Chrome(service=service)\n",
    "# Localizar website e entrar\n",
    "website = 'https://www.fiba.basketball/womensamericup/2023/team/Brazil#'\n",
    "driver.get(website)\n",
    "# Maximizar aba Web\n",
    "driver.maximize_window()"
   ]
  },
  {
   "cell_type": "code",
   "execution_count": 3,
   "id": "46e62da5",
   "metadata": {},
   "outputs": [],
   "source": [
    "container = WebDriverWait(driver, 10).until(EC.presence_of_element_located((By.XPATH, '//div[@class=\"country_roster_team\"]')))\n",
    "products = WebDriverWait(container, 10).until(EC.presence_of_all_elements_located((By.XPATH, './/div[@class=\"team_section\"]')))\n",
    "li = WebDriverWait(container, 10).until(EC.presence_of_all_elements_located((By.XPATH, './/li')))\n",
    "details = WebDriverWait(container, 10).until(EC.presence_of_all_elements_located((By.XPATH, './/div[@class=\"details\"]')))\n",
    "f_name = WebDriverWait(container, 10).until(EC.presence_of_all_elements_located((By.XPATH, './/div[@class=\"firstname\"]')))\n",
    "l_name = WebDriverWait(container, 10).until(EC.presence_of_all_elements_located((By.XPATH, './/div[@class=\"lastname\"]')))\n",
    "    \n",
    "full_names = []  # Crie uma lista para armazenar os nomes completos\n",
    "\n",
    "for first_name, last_name in zip(f_name, l_name):\n",
    "    first_name_text = first_name.text\n",
    "    last_name_text = last_name.text\n",
    "    full_name = f\"{first_name_text} {last_name_text}\"\n",
    "    full_names.append(full_name)  # Anexe o nome completo à lista"
   ]
  },
  {
   "cell_type": "code",
   "execution_count": 4,
   "id": "bed02fc1",
   "metadata": {},
   "outputs": [],
   "source": [
    "df_list = pd.DataFrame({'Atletas_e_Equipe': full_names})\n",
    "df_list.to_csv('Womens_Americup_2023.csv', index=False)"
   ]
  },
  {
   "cell_type": "code",
   "execution_count": null,
   "id": "b54838b5",
   "metadata": {},
   "outputs": [],
   "source": []
  }
 ],
 "metadata": {
  "kernelspec": {
   "display_name": "Python 3 (ipykernel)",
   "language": "python",
   "name": "python3"
  },
  "language_info": {
   "codemirror_mode": {
    "name": "ipython",
    "version": 3
   },
   "file_extension": ".py",
   "mimetype": "text/x-python",
   "name": "python",
   "nbconvert_exporter": "python",
   "pygments_lexer": "ipython3",
   "version": "3.11.4"
  }
 },
 "nbformat": 4,
 "nbformat_minor": 5
}
