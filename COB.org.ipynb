{
 "cells": [
  {
   "cell_type": "code",
   "execution_count": 1,
   "metadata": {},
   "outputs": [],
   "source": [
    "from selenium import webdriver\n",
    "from selenium.webdriver.common.by import By\n",
    "from selenium.webdriver.support.ui import WebDriverWait\n",
    "from selenium.webdriver.support import expected_conditions as EC\n",
    "from selenium.common.exceptions import NoSuchElementException, TimeoutException\n",
    "from bs4 import BeautifulSoup\n",
    "import time\n",
    "import pandas as pd\n",
    "from selenium.webdriver.chrome.service import Service\n",
    "from selenium.webdriver.support.ui import Select\n",
    "from webdriver_manager.chrome import ChromeDriverManager\n",
    "import re"
   ]
  },
  {
   "cell_type": "code",
   "execution_count": 2,
   "metadata": {},
   "outputs": [],
   "source": [
    "service = Service(ChromeDriverManager().install())\n",
    "driver = webdriver.Chrome(service=service)\n",
    "website = 'https://www.cob.org.br/pt/cob/time-brasil/atletas?&page=1'\n",
    "driver.get(website)\n",
    "\n",
    "driver.maximize_window()"
   ]
  },
  {
   "cell_type": "code",
   "execution_count": 3,
   "metadata": {},
   "outputs": [
    {
     "name": "stdout",
     "output_type": "stream",
     "text": [
      "Navegando para https://www.cob.org.br/pt/cob/time-brasil/atletas?&page=1\n",
      "Navegando para https://www.cob.org.br/pt/cob/time-brasil/atletas?&page=2\n",
      "Navegando para https://www.cob.org.br/pt/cob/time-brasil/atletas?&page=3\n",
      "Navegando para https://www.cob.org.br/pt/cob/time-brasil/atletas?&page=4\n",
      "Navegando para https://www.cob.org.br/pt/cob/time-brasil/atletas?&page=5\n",
      "Navegando para https://www.cob.org.br/pt/cob/time-brasil/atletas?&page=6\n",
      "Navegando para https://www.cob.org.br/pt/cob/time-brasil/atletas?&page=7\n",
      "Navegando para https://www.cob.org.br/pt/cob/time-brasil/atletas?&page=8\n",
      "Navegando para https://www.cob.org.br/pt/cob/time-brasil/atletas?&page=9\n",
      "Navegando para https://www.cob.org.br/pt/cob/time-brasil/atletas?&page=10\n",
      "Navegando para https://www.cob.org.br/pt/cob/time-brasil/atletas?&page=11\n",
      "Navegando para https://www.cob.org.br/pt/cob/time-brasil/atletas?&page=12\n",
      "Navegando para https://www.cob.org.br/pt/cob/time-brasil/atletas?&page=13\n",
      "Navegando para https://www.cob.org.br/pt/cob/time-brasil/atletas?&page=14\n",
      "Navegando para https://www.cob.org.br/pt/cob/time-brasil/atletas?&page=15\n",
      "Navegando para https://www.cob.org.br/pt/cob/time-brasil/atletas?&page=16\n",
      "Navegando para https://www.cob.org.br/pt/cob/time-brasil/atletas?&page=17\n",
      "Navegando para https://www.cob.org.br/pt/cob/time-brasil/atletas?&page=18\n",
      "Nomes finais: ['Abner Teixeira', 'Abner Vinícius', 'Ademir Kaefer', 'Adenizia', 'Adhemar Ferreira da Silva', 'Adriana Aparecida da Silva', 'Adriana Araújo', 'Adriana Behar', 'Adriana Samuel', 'Adriana Santos', 'Adrianinha', 'Affonso Évora', 'Afrânio Costa', 'Ágatha Rippel', 'Aída dos Santos', 'Alberto Marson', 'Aldair', 'Alessandra Oliveira', 'Alex Garcia', 'Alex Sandro', 'Alex Silva', 'Alex Welter', 'Alexandra Nascimento)', 'Alexandre Gemignani', 'Alexandre Pato', 'Alfredo da Motta', 'Algodão', 'Aline Pellegrino', 'Aline Reis', 'Alison Cerutti', 'Alison dos Santos', 'Allan do Carmo', 'Aloísio', 'Amaral', 'Amauri Ribeiro', 'Amaury Pasos', 'Ana Carolina da Silva', 'Ana Claudia Lemos', 'Ana Cristina', 'Ana Flávia', 'Ana Luiza Barbachan', 'Ana Marcela Cunha', 'Ana Moser', 'Ana Paula Henkel', 'Ana Paula Rodrigues', 'Ana Sátila', 'Anderson Oliveira', 'Anderson Rodrigues', 'André Cruz', 'André Domingos', 'André Heller', 'André Johannpeter', 'André Luis Ferreira', 'André Luiz', 'André Nascimento', 'Andréia Rosa', 'Andréia Suntaque', 'Andressa (Andressinha)', 'Andressa Morais', 'Andressa Silva', 'Antony', 'Arnaldo Oliveira', 'Arthur Nory', 'Arthur Zanetti', 'Augusto Brito', 'Aurélio Miguel', 'Babi Arenhart', 'Baby Futuro', 'Badalhoca', 'Bárbara Micheline', 'Bárbara Seixas', 'Beatriz (Bia)', 'Beatriz Feres', 'Beatriz Ferreira', 'Bebeto', 'Bernard Rajzman', 'Bernardinho', 'Branca', 'Branca Feres', 'Brenno', 'Breno Borges', 'Bruna Takahashi', 'Bruninho', 'Brunno Mendonça', 'Bruno Fratus', 'Bruno Fuchs', 'Bruno Guimarães', 'Bruno Lins', 'Bruno Prada', 'Bruno Schmidt', 'Bruno Uvini', 'Burkhard Cordes', 'Camila Brait', 'Carlão', 'Carlos Honorato', 'Carlos Jayme', 'Carol Albuquerque', 'Carol Gattaz', 'Cassius Duran', 'Cesar Cielo', 'Chiaki Ishii', 'Chicão Vidal', 'Chico Barretto', 'Cíntia Tuiú', 'Cláudia Pastor', 'Claudinei Quirino', 'Claudinha', 'Cláudio Roberto', 'Clínio Freitas', 'Clodoaldo do Carmo', 'Codó', 'Cristiane', 'Cristiano Felício', 'Cyro Delgado', 'Daiane dos Santos', 'Dani Lins', 'Dani Piedade', 'Daniel Adler', 'Daniel Alves', 'Daniel Cargnin', 'Daniela Alves', 'Daniela Polzin', 'Daniele Hypolito', 'Danilo Luiz', 'Danrlei', 'Dante Amaral', 'Dario Barbosa', 'Davi Silva', 'Dayane Rocha', 'Débora (Debinha)', 'Deonise', 'Dida', 'Diego Alves', 'Diego Carlos', 'Diego Hypolito', 'Diego Ribas', 'Diogo Martins', 'Diogo Silva', 'Djan Madruga', 'Doda Miranda', 'Domingos Maracanã', 'Douglas Chiarotti', 'Douglas Luiz', 'Douglas Santos', 'Douglas Souza', 'Douglas Vieira', 'Duda Amorim', 'Dunga', 'Éder Carbonera', 'Edmar Bernardes', 'Edson Bindilatti', 'Édson Bispo', 'Edson Luciano', 'Edu Penido', 'Eduard Soghomonyan', 'Edvaldo Valério', 'Edvar Simões', 'Elaine Moura', 'Elisângela Oliveira', 'Emanuel Rego', 'Emerson Duarte', 'Érika Coimbra', 'Érika Cristiano', 'Erlon Souza', 'Esquiva Falcão', 'Ester Santos', 'Etiene Medeiros', 'Evandro Guerra', 'Evandro Júnior', 'Fabi Alvim', 'Fabiana (Dara)', 'Fabiana Beltrame', 'Fabiana Claudino', 'Fabiana Murer', 'Fabiana Simões', 'Fabiano Peçanha', 'Fábio Luiz', 'Felipe Anderson', 'Felipe Kitadai', 'Felipe Wu', 'Fernanda Garay', 'Fernanda Nunes', 'Fernanda Oliveira', 'Fernanda Venturini', 'Fernandão', 'Fernandinha Ferreira', 'Fernando Brobró', 'Fernando Reis', 'Fernando Scheffer', 'Fernando Scherer', 'Fernando Soledade', 'Filó', 'Flávio Canto', 'Flávio Conceição', 'Fofão', 'Formiga', 'Francielle Alberto', 'Fritz Braun', 'Gabi Guimarães', 'Gabigol', 'Gabriel Jesus', 'Gabriel Menino', 'Gabriel Vasconcellos', 'Geovani Silva', 'Gerson Victalino', 'Giba', 'Gilmar Popoca', 'Gilmar Rinaldi', 'Gilvan Ribeiro', 'Giovane Gávio', 'Grazielle Nascimento', 'Grummy', 'Guilherme Arana', 'Guilherme Giovannoni', 'Guilherme Guido', 'Guilherme Paraense', 'Gustavo Borges', 'Gustavo Endres', 'Hamilton Careca', 'Hebert Conceição', 'Helen Luz', 'Henrique Guimarães', 'Hernanes', 'Hilma Caldeira', 'Hortência', 'Hugo Calderano', 'Hugo Hoyama', 'Hulk', 'Ida Álvares', 'Ilsinho', 'Isabel Clark', 'Isabel Swan', 'Isadora Williams', 'Isaquias Queiroz', 'Italo Ferreira', 'Iziane', 'Jackie Silva', 'Jade Barbosa', 'Janelson Carvalho', 'Janeth Arcain', 'JANICE TEIXEIRA', 'Janina', 'Jaqueline Carvalho', 'Jaqueline Ferreira', 'Jaqueline Mourão', 'Jatyr Schall', 'Jefferson Sabino', 'Jô', 'Joana Cortez', 'Joanna Maranhão', 'João Batista', 'João do Pulo', 'João Francisco Bráz', 'João Kita', 'João Paulo', 'Joaquim Cruz', 'Jorge Edson', 'Jorge Fernandes', 'Jorge Luis Andrade', 'Jorginho', 'José Ferreira Neto', 'José Telles da Conceição', 'Juan Jesus', 'Juan Nogueira', 'Juliana Cabral', 'Juliana Felisberta', 'Juninho Paulista', 'Kahena Kunze', 'Karin Rodrigues', 'Kátia Lopes', 'Keila Costa', 'Kelly Cristina', 'Kelly Santos', 'Kelvin Hoefler', 'Kely Fraga', 'Ketleyn Quadros', 'Kiko Pellicano', 'Lara Cianciarulo', 'Larissa França', 'Lars Björkström', 'Lars Grael', 'Laura Pigossi', 'Leandrinho', 'Leandro Damião', 'Leandro Guilheiro', 'Leandro Vissotto', 'Leila Barros', 'Leila Sobral', 'Lígia Silva', 'Lilian Gonçalves', 'Lipe Fonteles', 'Lorena Molinos', 'Luan Garcia', 'Luan Guilherme', 'Lucão', 'Lucas Duque', 'Lucas Leiva', 'Lucas Moura', 'Lucimar Moura', 'Luís Henrique', 'Luisa Borges', 'Luísa Stefani', 'Luiz Carlos Winck', 'Luiz Felipe Azevedo', 'Luiz Onmura', 'Luizão', 'Macris', 'Magic Paula', 'Maicon Andrade', 'Malcom', 'Manoel dos Santos', 'Maravilha', 'Marcelinho Elgarten', 'Marcelinho Machado', 'Marcelinho Paulista', 'Marcelo Chierighini', 'Marcelo Ferreira', 'Marcelo Huertas)', 'Marcelo Negrão', 'Marcelo Vieira', 'Márcia Fu', 'Márcio Araújo', 'Marcos Soares', 'Marcus (Marquinhos)', \"Marcus D'Almeida\", 'Marcus Mattioli', 'Marcus Vinícius Dias', 'Marcus Vinícius Freire', 'Mari Steinbrecher', 'Maria Bruno', 'Maria Coutinho', 'Maria Lenk', 'Maria Miccuci', 'Mariany Nonaka', 'Marquinhos', 'Marta', 'Marta Sobral', 'Martine Grael', 'Massinet Sorcinelli', 'Matheus Cunha', 'Matheus Henrique', 'Maurício Borges', 'Maurício Lima', 'Maurício Souza', 'Maurine', 'Mauro Galvão', 'Maurren Maggi', 'Maycon', 'Mayra Aguiar', 'Mazinho', 'Melânia Luz', 'Milton Cruz', 'Milton Luiz', \"Miriam D'Agostini\", 'Mônica de Paula', 'Mônica Rodrigues', 'Montanaro', 'Mosquito', 'Moysés Blás', 'Murilo Endres', 'Nalbert', 'Narciso', 'Natália Falavigna', 'Natália Gaudio', 'Natalia Zilio', 'Nelson Falcão', 'Nelson Pessoa', 'Nelson Prudêncio', 'Nenê Hilário', 'Neymar', 'Nilton Pacheco', 'Nino', 'Norberto Murara Neto', 'Oscar dos Santos', 'Pâmela Nogueira', 'Pâmella Oliveira', 'Pampa', 'Paula Pequeno', 'Paulão', 'Paulinho', 'Paulo André', 'Paulo Henrique Ganso', 'Paulo Santos', 'Pedro Barros', 'Pepê Gonçalves', 'Peter Ficker', 'Pinga', 'Poliana Medeiros', 'Poliana Okimoto', 'Pretinha', 'Rafael Andrade', 'Rafael Hettsheimeir', 'Rafael Luz', 'Rafael Pereira da Silva', 'Rafael Silva', 'Rafael Sóbis', 'Rafaela Silva', 'Rafaelle Souza', 'Rafinha', 'Rafinha Alcântara', 'Ramires', 'Raquel Peluci', 'Raquel Santos', 'Raul (Raulzinho)', 'Rayssa Leal', 'Rebeca Andrade', 'Reinaldo Conrad', 'Renan Brito Soares', 'Renan Dal Zotto', 'Renata Costa', 'Renato Augusto', 'Ricarda', 'Ricardinho', 'Ricardo Gomes', 'Ricardo Graça', 'Ricardo Lucarelli', 'Ricardo Prado', 'Ricardo Santos', 'Richarlison', 'Rivaldo', 'Robert Scheidt', 'Roberta Ratzke', 'Roberto Carlos', 'Robson Caetano', 'Robson Conceição', 'Rodrigão', 'Rodrigo Caio', 'Rodrigo Dourado', 'Rodrigo Pessoa', 'Rogério Sampaio', 'Romário', 'Rômulo Monteiro', 'Ronaldinho Gaúcho', 'Ronaldo Guiaro', 'Ronaldo Moraes', 'Ronaldo Nazário', 'Ronaldo Senfft', 'Rosa Branca', 'Rosamaria', 'Rosana Augusto', 'Rosângela Santos', 'Roseli de Belo', 'Roseli Gustavo', 'Rosemar Coelho Neto', 'Rui Campos', 'Ruy de Freitas', 'Samuel Fuchs', 'Sandra Pires', 'Sandra Suruagy', 'Sandro Raniere', 'Sandro Viana', 'Santos', 'Sarah Menezes', 'Sassá', 'Sávio', 'Sebastián Cuattrin', 'Sebástian Pereira', 'Sebastião Wolf', 'Serginho', 'Sérgio Macarrão', 'Servílio de Oliveira', 'Sheilla Castro', 'Shelda', 'Sidão', 'Silvinha Luz', 'Silvinho', 'Simone Jatobá', 'Sucar', 'Sylvio Padilha', 'Taffarel', 'Talmo', 'Tamires Gomes', 'Tandara', 'Tande', 'Tânia Maranhão', 'Tetsuo Okamoto', 'Thaisa Daher', 'Thaisa Moreno', 'Thaissa Barbosa Presti', 'Thiago Alves', 'Thiago Braz', 'Thiago Maia', 'Thiago Neves', 'Thiago Pereira', 'Thiago Silva', 'Thiagus Petrus', 'Tiago Camilo', 'Tonho Gil', 'Torben Grael', 'Ubiratan', 'Uilson', 'Valdo', 'Valeskinha', 'Vanderlei Cordeiro de Lima', 'Vicente Lenílson', 'Victor Mirshawka', 'Virna', 'Vitor Benite', 'Walace', 'Waldemar Blatkauskas', 'Waldyr Boccardo', 'Walewska', 'Wallace Souza', 'Walter Carmona', 'Weverton', 'William Arjona', 'William Carvalho', 'William Furtado', 'Wlamir Marques', 'Xandó', 'Yamaguchi Falcão', 'Yane Marques', 'Ygor Coelho', 'Zagallo', 'Zaine', 'Zé Carlos', 'Zé Elias', 'Zé Marco', 'Zé Maria', 'Zé Roberto Guimarães', 'Zeca']\n",
      "Modalidade finais: ['Boxe', 'Futebol', 'Futebol', 'Vôlei', 'Atletismo', 'Atletismo', 'Boxe', 'Vôlei de praia', 'Vôlei de praia', 'Basquete', 'Basquete', 'Basquete', 'Tiro esportivo', 'Vôlei de praia', 'Atletismo', 'Basquete', 'Futebol', 'Basquete', 'Basquete', 'Futebol', 'Futebol', 'Vela', 'Handebol', 'Basquete', 'Futebol', 'Basquete', 'Basquete', 'Futebol', 'Futebol', 'Vôlei de praia', 'Atletismo', 'Águas Abertas', 'Futebol', 'Futebol', 'Vôlei', 'Basquete', 'Vôlei', 'Atletismo', 'Vôlei', 'Vôlei', 'Vela', 'Águas Abertas', 'Vôlei', 'Vôlei', 'Handebol', 'Canoagem Slalom', 'Futebol', 'Vôlei', 'Futebol', 'Atletismo', 'Vôlei', 'Hipismo', 'Futebol', 'Futebol', 'Vôlei', 'Futebol', 'Futebol', 'Futebol', 'Atletismo', 'Futebol', 'Futebol', 'Atletismo', 'Ginástica Artística', 'Ginástica Artística', 'Basquete', 'Judô', 'Handebol', 'Rugby de 7', 'Vôlei', 'Futebol', 'Vôlei de praia', 'Futebol', 'Nado Artístico', 'Boxe', 'Futebol', 'Vôlei', 'Vôlei', 'Basquete', 'Nado Artístico', 'Futebol', 'Futebol', 'Tênis de mesa', 'Vôlei', 'Hóquei sobre Grama', 'Natação', 'Futebol', 'Futebol', 'Atletismo', 'Vela', 'Vôlei de praia', 'Futebol', 'Vela', 'Vôlei', 'Vôlei', 'Judô', 'Natação', 'Vôlei', 'Vôlei', 'Saltos Ornamentais', 'Natação', 'Judô', 'Futebol', 'Ginástica Artística', 'Basquete', 'Basquete', 'Atletismo', 'Basquete', 'Atletismo', 'Vela', 'Atletismo', 'Atletismo', 'Futebol', 'Basquete', 'Natação', 'Ginástica Artística', 'Vôlei', 'Handebol', 'Vela', 'Futebol', 'Judô', 'Futebol', 'Judô', 'Ginástica Artística', 'Futebol', 'Futebol', 'Vôlei', 'Tiro esportivo', 'Futebol', 'Futebol', 'Futebol', 'Handebol', 'Futebol', 'Futebol', 'Futebol', 'Ginástica Artística', 'Futebol', 'Triatlo', 'Taekwondo', 'Natação', 'Hipismo Saltos', 'Vôlei', 'Vôlei', 'Futebol', 'Futebol', 'Vôlei', 'Judô', 'Handebol', 'Futebol', 'Vôlei', 'Futebol', 'Bobsled', 'Basquete', 'Atletismo', 'Vela', 'Wrestling', 'Natação', 'Basquete', 'Futebol', 'Vôlei', 'Vôlei de praia', 'Tiro esportivo', 'Vôlei', 'Futebol', 'Canoagem Velocidade', 'Boxe', 'Futebol', 'Natação', 'Vôlei', 'Vôlei de praia', 'Vôlei', 'Handebol', 'Remo', 'Vôlei', 'Atletismo', 'Futebol', 'Atletismo', 'Vôlei de praia', 'Futebol', 'Judô', 'Tiro esportivo', 'Vôlei', 'Remo', 'Vela', 'Vôlei', 'Vôlei', 'Vôlei', 'Basquete', 'Levantamento de Pesos', 'Natação', 'Natação', 'Tiro esportivo', 'Vôlei', 'Judô', 'Futebol', 'Vôlei', 'Futebol', 'Futebol', 'Basquete', 'Vôlei', 'Futebol', 'Futebol', 'Futebol', 'Futebol', 'Futebol', 'Basquete', 'Vôlei', 'Futebol', 'Futebol', 'Canoagem Velocidade', 'Vôlei', 'Futebol', 'Desportos Aquaticos', 'Futebol', 'Basquete', 'Natação', 'Tiro esportivo', 'Natação', 'Vôlei', 'Futebol', 'Boxe', 'Basquete', 'Judô', 'Futebol', 'Vôlei', 'Basquete', 'Tênis de mesa', 'Tênis de mesa', 'Futebol', 'Vôlei', 'Futebol', 'Snowboard', 'Vela', 'Patinação Artística', 'Canoagem Velocidade', 'Surfe', 'Basquete', 'Vôlei de praia', 'Ginástica Artística', 'Vôlei', 'Basquete', 'Tiro esportivo', 'Vôlei', 'Vôlei', 'Levantamento de Pesos', 'Ciclismo Mountain Bike', 'Basquete', 'Atletismo', 'Futebol', 'Tênis', 'Natação', 'Futebol', 'Atletismo', 'Basquete', 'Futebol', 'Futebol', 'Atletismo', 'Vôlei', 'Natação', 'Futebol', 'Futebol', 'Futebol', 'Atletismo', 'Futebol', 'Boxe', 'Futebol', 'Vôlei de praia', 'Futebol', 'Vela', 'Vôlei', 'Vôlei', 'Atletismo', 'Futebol', 'Basquete', 'Skate', 'Vôlei', 'Judô', 'Vela', 'Nado Artístico', 'Vôlei de praia', 'Vela', 'Vela', 'Tênis', 'Basquete', 'Futebol', 'Judô', 'Vôlei', 'Vôlei', 'Basquete', 'Tênis de mesa', 'Basquete', 'Vôlei', 'Nado Artístico', 'Futebol', 'Futebol', 'Vôlei', 'Rugby de 7', 'Futebol', 'Futebol', 'Atletismo', 'Futebol', 'Nado Artístico', 'Tênis', 'Futebol', 'Hipismo', 'Judô', 'Futebol', 'Vôlei', 'Basquete', 'Taekwondo', 'Futebol', 'Natação', 'Futebol', 'Vôlei', 'Basquete', 'Futebol', 'Natação', 'Vela', 'Basquete', 'Vôlei', 'Futebol', 'Vôlei', 'Vôlei de praia', 'Vela', 'Basquete', 'Tiro com arco', 'Natação', 'Basquete', 'Vôlei', 'Vôlei', 'Nado Artístico', 'Nado Artístico', 'Natação', 'Desportos Aquaticos', 'Tênis de mesa', 'Futebol', 'Futebol', 'Basquete', 'Vela', 'Basquete', 'Futebol', 'Futebol', 'Vôlei', 'Vôlei', 'Vôlei', 'Futebol', 'Futebol', 'Atletismo', 'Futebol', 'Judô', 'Futebol', 'Atletismo', 'Futebol', 'Futebol', 'Tênis', 'Futebol', 'Vôlei de praia', 'Vôlei', 'Basquete', 'Basquete', 'Vôlei', 'Vôlei', 'Futebol', 'Taekwondo', 'Ginástica Rítmica', 'Vôlei', 'Vela', 'Hipismo Saltos', 'Atletismo', 'Basquete', 'Futebol', 'Basquete', 'Futebol', 'Futebol', 'Futebol', 'Nado Artístico', 'Triatlo', 'Vôlei', 'Vôlei', 'Vôlei', 'Futebol', 'Atletismo', 'Futebol', 'Futebol', 'Skate', 'Canoagem Slalom', 'Vela', 'Futebol', 'Futebol', 'Águas Abertas', 'Futebol', 'Ginástica de Trampolim', 'Basquete', 'Basquete', 'Futebol', 'Judô', 'Futebol', 'Judô', 'Futebol', 'Futebol', 'Futebol', 'Futebol', 'Vôlei', 'Futebol', 'Basquete', 'Skate', 'Ginástica Artística', 'Vela', 'Futebol', 'Vôlei', 'Futebol', 'Futebol', 'Vôlei', 'Vôlei', 'Futebol', 'Futebol', 'Vôlei', 'Natação', 'Vôlei de praia', 'Futebol', 'Futebol', 'Vela', 'Vôlei', 'Futebol', 'Atletismo', 'Boxe', 'Vôlei', 'Futebol', 'Futebol', 'Hipismo Saltos', 'Judô', 'Futebol', 'Futebol', 'Futebol', 'Futebol', 'Futebol', 'Futebol', 'Vela', 'Basquete', 'Vôlei', 'Futebol', 'Atletismo', 'Futebol', 'Basquete', 'Atletismo', 'Vôlei', 'Basquete', 'Vôlei', 'Vôlei de praia', 'Vôlei', 'Futebol', 'Atletismo', 'Futebol', 'Judô', 'Vôlei', 'Futebol', 'Canoagem Velocidade', 'Judô', 'Tiro esportivo', 'Vôlei', 'Basquete', 'Boxe', 'Vôlei', 'Vôlei de praia', 'Vôlei', 'Basquete', 'Futebol', 'Futebol', 'Basquete', 'Atletismo', 'Futebol', 'Vôlei', 'Futebol', 'Vôlei', 'Vôlei', 'Futebol', 'Natação', 'Vôlei', 'Futebol', 'Atletismo', 'Vôlei', 'Atletismo', 'Futebol', 'Futebol', 'Natação', 'Futebol', 'Handebol', 'Judô', 'Futebol', 'Vela', 'Basquete', 'Futebol', 'Futebol', 'Vôlei', 'Atletismo', 'Atletismo', 'Basquete', 'Vôlei', 'Basquete', 'Futebol', 'Basquete', 'Basquete', 'Vôlei', 'Vôlei', 'Judô', 'Futebol', 'Vôlei', 'Vôlei', 'Futebol', 'Basquete', 'Vôlei', 'Boxe', 'Pentatlo Moderno', 'Badminton', 'Futebol', 'Basquete', 'Futebol', 'Futebol', 'Vôlei de praia', 'Futebol', 'Vôlei', 'Futebol']\n"
     ]
    }
   ],
   "source": [
    "# URL base\n",
    "base_url = \"https://www.cob.org.br/pt/cob/time-brasil/atletas\"\n",
    "\n",
    "nomes = []\n",
    "modalidade = []\n",
    "\n",
    "# Itera sobre todas as páginas do site\n",
    "for page_number in range(1, 19):  # De 1 até 18\n",
    "    url = f\"{base_url}?&page={page_number}\"\n",
    "    driver.get(url)\n",
    "    print(f\"Navegando para {url}\")\n",
    "\n",
    "    # Espera o conteúdo da página carregar\n",
    "    WebDriverWait(driver, 10).until(EC.presence_of_element_located((By.CLASS_NAME, 'col-lg-4')))\n",
    "\n",
    "    # Obtém o código fonte da página atual\n",
    "    html_content = driver.page_source\n",
    "    soup = BeautifulSoup(html_content, 'html.parser')\n",
    "\n",
    "    # Encontra todos os elementos requeridos e extrai os dados\n",
    "    divs = soup.find_all('div', class_='col-lg-4 col-md-6')\n",
    "    for div in divs:\n",
    "        dados_div = div.find('div', class_='dados')\n",
    "        if dados_div:\n",
    "            h3 = dados_div.find('h3')\n",
    "            if h3:\n",
    "                nomes.append(h3.text.strip())\n",
    "        \n",
    "        texto_div = div.find('div', class_='texto')\n",
    "        if texto_div:\n",
    "            span = texto_div.find('span')\n",
    "            if span:\n",
    "                modalidade.append(span.text.strip())\n",
    "\n",
    "print(\"Nomes finais:\", nomes)\n",
    "print(\"Modalidade finais:\", modalidade)"
   ]
  },
  {
   "cell_type": "code",
   "execution_count": 4,
   "metadata": {},
   "outputs": [],
   "source": [
    "data = {\n",
    "    'Nomes': nomes,\n",
    "    'Modalidade': modalidade\n",
    "}\n",
    "\n",
    "df = pd.DataFrame(data)\n",
    "df.to_csv('Atletas Olímpicos COB.csv', index=False)"
   ]
  }
 ],
 "metadata": {
  "kernelspec": {
   "display_name": "Python 3",
   "language": "python",
   "name": "python3"
  },
  "language_info": {
   "codemirror_mode": {
    "name": "ipython",
    "version": 3
   },
   "file_extension": ".py",
   "mimetype": "text/x-python",
   "name": "python",
   "nbconvert_exporter": "python",
   "pygments_lexer": "ipython3",
   "version": "3.11.4"
  }
 },
 "nbformat": 4,
 "nbformat_minor": 2
}
