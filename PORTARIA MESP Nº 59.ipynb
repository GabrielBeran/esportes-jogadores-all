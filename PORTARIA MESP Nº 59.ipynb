{
 "cells": [
  {
   "cell_type": "code",
   "execution_count": 5,
   "metadata": {},
   "outputs": [],
   "source": [
    "from selenium import webdriver\n",
    "from selenium.webdriver.common.by import By\n",
    "from selenium.webdriver.common.keys import Keys\n",
    "from selenium.webdriver.chrome.service import Service\n",
    "from webdriver_manager.chrome import ChromeDriverManager\n",
    "from bs4 import BeautifulSoup\n",
    "import time"
   ]
  },
  {
   "cell_type": "code",
   "execution_count": 6,
   "metadata": {},
   "outputs": [
    {
     "name": "stdout",
     "output_type": "stream",
     "text": [
      "Nomes: ['Nome', 'AGATHA BEDNARCZUK RIPPEL', 'AILTON DE ANDRADE BENTO DE SOUZA', 'ALEX DOUGLAS PIRES DA SILVA', 'ALEXSANDRO DO NASCIMENTO DE MELO', 'ALINE BIEGER', 'ALINE DA SILVA RODRIGUES', 'ALMIR CUNHA DOS SANTOS', 'ALTOBELI SANTOS DA SILVA', 'AMANDA FERREIRA SANCHES', 'ANA CAROLINA DE JESUS AZEVEDO', 'ANA CAROLINA VIEIRA', 'ANA CLAUDIA DOS SANTOS CALDEIRA', 'ANA CLAUDIA LEMOS SILVA', 'ANA CLAUDIA MARIA DA SILVA', 'ANA PAULA MADRUGA DE SOUZA', 'ANA RAQUEL MONTENEGRO BATISTA LINS', 'ANDERSON FREITAS HENRIQUES', 'ANDRE ARTHUR DUTRA', 'ANDRESSA OLIVEIRA DE MORAIS', 'ANDREY MUNIZ DE CASTRO', 'ANDREY PEREIRA GARBE', 'ANE MARCELLE GOMES DOS SANTOS', 'ANTONIO TENORIO DA SILVA', 'AUGUSTO DUTRA DA SILVA DE OLIVEIRA', 'BEATRIZ BORGES CARNEIRO', 'BEATRIZ PIMENTEL DIZOTTI', 'BRENO MARTINS CORREIA', 'BRUNA JESSICA OLIVEIRA FARIAS', 'BRUNA YUMI TAKAHASHI', 'BRUNO BECKER DA SILVA', 'BRUNO PINHEIRO CARRA', 'CAIO AMORIM MUNIZ DE OLIVEIRA', 'CAIO RODRIGUES PUMPUTIS', 'CARLOS ALBERTO CARBINATTI JUNIOR', 'CARLOS EDUARDO RAMADAM PARRO', 'CARMINHA CELESTINA DE OLIVEIRA', 'CAUA TADEU FERREIRA DA SILVA', 'CECILIA KETHLEN JERONIMO DE ARAUJO', 'CHAYENNE PEREIRA DA SILVA', 'CLAUDIA CICERO DOS SANTOS SABINO', 'DANIEL FERREIRA DO NASCIMENTO', 'DAVID ANDRADE DE FREITAS', 'DEBORA BORGES CARNEIRO', 'DEBORAH MEDRADO BARBOSA', 'DERICK DE SOUZA SILVA', 'DIANA CRISTINA BARCELOS DE OLIVEIRA', 'EDENILSON ROBERTO FLORIANI', 'EDSON LUQUES BINDILATTI', 'EDSON RICARDO MARTINS', 'EDUARDA WESTEMAIER RIBERA', 'EDUARDO DOS SANTOS RODRIGUES DE DEUS', 'ELIANE MARTINS', 'EMANOEL VICTOR SOUZA DE OLIVEIRA', 'ERCILEIDE LAURINDA DA SILVA', 'ERICK GILSON VIANNA JERONIMO', 'EVANIO RODRIGUES DA SILVA', 'FABIANA DA SILVA', 'FABIO DA SILVA BORDIGNON', 'FABRICIO JUNIOR BARROS FERREIRA', 'FELIPE ALMEIDA WU', 'FELIPE BARDI DOS SANTOS', 'FELIPE CALTRAN VILA REAL', 'FELIPE GUSTAVO ALVES DE MACEDO', 'FELIPE VELOSO DA SILVA (Atleta Guia)', 'FELIPE VINICIUS DOS SANTOS', 'FERNANDA RAQUEL BORGES MARTINS', 'FERNANDO MUHLENBERG SCHEFFER', 'FRANCISCO CARLOS BARRETTO JUNIOR', 'FRANCISCO JEFFERSON DE LIMA', 'GABRIEL APARECIDO DOS SANTOS GARCIA (Atleta Guia)', 'GABRIEL DA SILVA SANTOS', 'GABRIEL HOVELACQUE DE FARIA', 'GABRIEL OLIVEIRA CONSTANTINO', 'GABRIELA NICOLINO DE SA', 'GABRIELLE GONCALVES RONCATTO', 'GEISA VIEIRA DE OLIVEIRA', 'GEOVANNA SANTOS DA SILVA', 'GIOVANE VIEIRA DE PAULA', 'GIOVANNA TOMANIK DIAMANTE', 'GIOVANNI VIANNA GALERA', 'GUILHERME ADEMILSON DOS ANJOS SANTOS (Atleta Guia)', 'GUILHERME AMARAL TOLDO', 'GUILHERME AUGUSTO GUIDO', 'GUILHERME DIAS MASSE BASSETO', 'GUSTAVO CARNEIRO SILVA', 'GUSTAVO HENRIQUE DE OLIVEIRA DIAS', 'GUSTAVO TSUBOI', 'HELCIO LUIZ JAIME GOMES PERILO', 'HENRIQUE DUARTE HADDAD', 'HERIBERTO ALVES ROCA', 'HIGOR CALDEIRA RIBEIRO', 'ICARO MIGUEL MARTINS SOARES', 'INGRID DE OLIVEIRA', 'ISAAC NASCIMENTO DE SOUZA FILHO', 'ITALO FERREIRA DA COSTA', 'IZABELA RODRIGUES DA SILVA', 'JACKSON CESAR DA SILVA (Atleta Guia)', 'JAIRO NATANAEL FROHLICH KLUG', 'JAQUELINE MOURAO', 'JEFFERSON DIAS SABINO', 'JENNYFER MARQUES PARINOS', 'JEOHSAH BESERRA DOS SANTOS', 'JESSICA LIE YAMADA', 'JHULIA KAROL DOS SANTOS DIAS DA FONSECA', 'JOAO HENRIQUE FALCAO CABRAL', 'JOAO MARIA DE FRANCA JUNIOR', 'JOAO VICTOR MARCARI OLIVA', 'JONAS ALEXANDRE DE LIMA SILVA (Atleta Guia)', 'JORGE HENRIQUE DA COSTA VIDES', 'JORGE LUIS CAMARGO FONSECA', 'JOSE RONALDO DA SILVA', 'JOSIANE DIAS DE LIMA', 'JUCILENE SALES DE LIMA', 'JULIO CESAR AGRIPINO DOS SANTOS', 'JULYANA CRISTINA DA SILVA', 'KETILEY BATISTA', 'LAERCIO ALVES MARTINS (Atleta Guia)', 'LAILA FERRER E SILVA', 'LARA APARECIDA FERREIRA SULLIVAN DE LIMA', 'LAURA PIGOSSI HERRMANN DE ANDRADE', 'LEONARDO GOMES DE DEUS', 'LETHICIA RODRIGUES LACERDA', 'LETICIA BUFONI E SILVA', 'LEYLANE DE CASTRO DOS SANTOS MOURA', 'LUANA WANDERLEY MOREIRA LIRA', 'LUCA KUMAHARA', 'LUCAS CONCEICAO VILAR', 'LUCAS GOMES DE SOUZA MAZZO', 'LUCAS PEREIRA', 'LUCAS PRADO', 'LUISA DE BAPTISTA BASTOS DUARTE', 'LUIZ ALTAMIR LOPES MELO', 'LUIZ FILIPE GUARNIERI MANARA', 'LUIZ FRANCISCO CANETTIERI NUNES MARIANO', 'LUIZ HENRIQUE COCUZZI', 'MANEX SALSAMENDI SILVA', 'MARCELO CHIERIGHINI', 'MARCELO DOS SANTOS', 'MARCELO FEDRIZZI DEMOLINER', 'MARCIO APPEL CHEUICHE', 'MARCIO SOARES TELES', 'MARCO SOFFIATTI GRAEL', 'MARIA EDUARDA DE ALMEIDA ARAKAKI', 'MARIA EDUARDA MELO MEDEIROS', 'MARIANA DANDREA', 'MARIVANA OLIVEIRA DA NOBREGA', 'MARLIANE AMARAL SANTOS', 'MARLON MODOLO ZANOTELLI', 'MARTINE SOFFIATTI GRAEL', 'MATEUS DANIEL ADAO DE SA', 'MATEUS SANTOS DE OLIVEIRA (Atleta Guia)', 'MATHEUS FERREIRA DE MORAES GONCHE', 'MATHEUS GABRIEL DE LIZ CORREA', 'MAURICIO POMME', 'MEG RODRIGUES VITORINO EMMERICH', 'MEIRYCOLL JULIA DUVAL DA SILVA', 'MICHEL GOMES PESSANHA', 'MURILO SETIN SARTORI', 'NATALI MELLO DE FARIA', 'NATANI EVALDT MAGNUS', 'NATHALIA SIQUEIRA ALMEIDA', 'NEWTON VIEIRA DE ALMEIDA JUNIOR (Atleta Guia)', 'NICOLE PIRCIO NUNES DUARTE', 'NUBIA APARECIDA SOARES', 'PATRICIA PEREIRA DOS SANTOS', 'PAULO ANDRE CAMILO DE OLIVEIRA', 'PAULO GIOVANI GINDRO GUERRA', 'PAULO ROBERTO DE ALMEIDA PAULA', 'PAULO SERGIO SALMIN FILHO', 'PEDRO GUIMARAES VENISS', 'PEDRO HENRIQUE GONCALVES DA SILVA', 'PEDRO HENRIQUE QUINTAS', 'PEDRO HENRIQUE SILVA SPAJARI', 'PEDRO LUIZ BURMANN DE OLIVEIRA', 'POLIANA FATIMA DE SOUSA', 'PRISCILLA ANDREIA STEVAUX CARNAVAL', 'RAFAEL AUGUSTO BUZACARINI', 'RAFAEL MAMPRIN LOSANO', 'RAFAEL MEDEIROS GOMES', 'RAFAEL SOUZA DA SILVA', 'REBECCA CAVALCANTE BARBOSA DA SILVA', 'RENATO BEN HUR COSTA OLIVEIRA (Atleta Guia)', 'RENATO REZENDE', 'RICARDO COSTA DE OLIVEIRA', 'RICARDO MORAND GOES', 'ROBELSON MOREIRA LULA', 'RODRIGO CHIEREGATTO ARCANJO (Atleta Guia)', 'RODRIGO PEREIRA DO NASCIMENTO', 'ROMAILSON RIBEIRO DE SANTANA', 'RONYSTONY CORDEIRO DA SILVA', 'ROSANGELA CRISTINA OLIVEIRA SANTOS', 'RUITER ANTONIO GONCALVES SILVA', 'SAMIRA DA SILVA BRITO', 'SAMORY UIKI BANDEIRA FRAGA', 'SERGIO FROES RIBEIRO DE OLIVA', 'SILVANA LIMA SANTIAGO DA SILVA', 'SILVANIA COSTA DE OLIVEIRA', 'SIMONE PONTE FERRAZ', 'STEPHANIE BALDUCCINI', 'SUSANA SCHNARNDORF RIBEIRO', 'TABATA VITORINO DE CARVALHO', 'TASCITHA OLIVEIRA CRUZ', 'TATIANE RAQUEL DA SILVA', 'THALITA VITORIA SIMPLICIO DA SILVA', 'THIAGO DO ROSARIO ANDRE', 'THIAGO JULIO SOUZA ALFANO MOURA', 'THIAGO MOURA MONTEIRO', 'TIFFANI BEATRIZ DOMINGOS SILVA DO NASCIMENTO MARINHO', 'VALDENI DA SILVA JUNIOR', 'VANDERSON LUIS DA SILVA CHAVES']\n",
      "CPFs: ['CPF', '***.***.919-84', '***.***.984-18', '***.***.240-38', '***.***.629-77', '***.***.720-44', '***.***.957-60', '***.***.991-63', '***.***.308-07', '***.***.498-89', '***.***.008-19', '***.***.868-00', '***.***.676-00', '***.***.839-30', '***.***.074-84', '***.***.069-07', '***.***.164-29', '***.***.720-90', '***.***.319-91', '***.***.694-01', '***.***.571-20', '***.***.468-00', '***.***.607-76', '***.***.548-16', '***.***.298-52', '***.***.019-73', '***.***.018-14', '***.***.497-60', '***.***.294-19', '***.***.738-85', '***.***.049-13', '***.***.928-70', '***.***.507-09', '***.***.108-27', '***.***.268-76', '***.***.148-55', '***.***.789-84', '***.***.008-51', '***.***.454-05', '***.***.617-61', '***.***.908-06', '***.***.518-75', '***.***.103-44', '***.***.929-59', '***.***.967-95', '***.***.247-05', '***.***.007-71', '***.***.829-25', '***.***.368-79', '***.***.418-40', '***.***.368-70', '***.***.798-82', '***.***.289-71', '***.***.767-63', '***.***.636-72', '***.***.008-62', '***.***.895-17', '***.***.097-52', '***.***.357-03', '***.***.649-00', '***.***.728-07', '***.***.258-90', '***.***.028-06', '***.***.911-82', '***.***.154-19', '***.***.298-02', '***.***.330-66', '***.***.870-61', '***.***.728-52', '***.***.683-38', '***.***.058-10', '***.***.018-39', '***.***.286-86', '***.***.827-08', '***.***.557-00', '***.***.548-78', '***.***.858-13', '***.***.897-23', '***.***.279-73', '***.***.398-17', '***.***.948-06', '***.***.787-56', '***.***.950-49', '***.***.778-20', '***.***.378-69', '***.***.756-49', '***.***.788-92', '***.***.838-35', '***.***.681-00', '***.***.777-89', '***.***.338-90', '***.***.361-47', '***.***.436-09', '***.***.767-38', '***.***.657-24', '***.***.394-88', '***.***.568-96', '***.***.467-65', '***.***.778-86', '***.***.556-59', '***.***.298-50', '***.***.458-73', '***.***.314-43', '***.***.578-86', '***.***.902-20', '***.***.823-70', '***.***.774-64', '***.***.228-12', '***.***.427-21', '***.***.287-88', '***.***.499-55', '***.***.448-06', '***.***.689-53', '***.***.304-95', '***.***.738-46', '***.***.167-65', '***.***.755-77', '***.***.819-59', '***.***.383-49', '***.***.036-09', '***.***.988-04', '***.***.781-57', '***.***.231-70', '***.***.918-59', '***.***.864-47', '***.***.814-07', '***.***.658-00', '***.***.218-11', '***.***.268-05', '***.***.670-27', '***.***.371-07', '***.***.648-85', '***.***.143-92', '***.***.308-74', '***.***.428-78', '***.***.438-14', '***.***.628-88', '***.***.488-60', '***.***.019-04', '***.***.590-42', '***.***.888-09', '***.***.367-07', '***.***.487-88', '***.***.264-10', '***.***.334-24', '***.***.758-08', '***.***.254-02', '***.***.306-32', '***.***.023-31', '***.***.307-22', '***.***.938-10', '***.***.328-44', '***.***.097-51', '***.***.499-43', '***.***.838-17', '***.***.739-10', '***.***.916-02', '***.***.847-60', '***.***.258-06', '***.***.348-71', '***.***.410-73', '***.***.487-40', '***.***.357-39', '***.***.548-80', '***.***.136-01', '***.***.987-29', '***.***.607-06', '***.***.118-82', '***.***.808-03', '***.***.468-62', '***.***.688-51', '***.***.798-74', '***.***.138-46', '***.***.468-21', '***.***.140-95', '***.***.526-92', '***.***.338-47', '***.***.828-12', '***.***.228-92', '***.***.706-40', '***.***.097-00', '***.***.363-32', '***.***.388-46', '***.***.377-54', '***.***.331-49', '***.***.647-05', '***.***.514-38', '***.***.268-76', '***.***.159-97', '***.***.281-04', '***.***.504-31', '***.***.157-32', '***.***.401-22', '***.***.254-10', '***.***.300-00', '***.***.661-87', '***.***.653-41', '***.***.701-70', '***.***.739-13', '***.***.818-10', '***.***.930-49', '***.***.029-00', '***.***.347-90', '***.***.809-80', '***.***.824-67', '***.***.627-67', '***.***.928-16', '***.***.773-19', '***.***.337-26', '***.***.279-63', '***.***.590-14']\n",
      "Esportes: ['Modalidade', 'Vôlei de Praia', 'Halterofilismo', 'Atletismo Paralímpico', 'Atletismo', 'Atletismo (CBDS)', 'Natação', 'Atletismo', 'Atletismo', 'Badminton (CBDS)', 'Atletismo', 'Natação', 'Tênis em CR', 'Atletismo', 'Atletismo Paralímpico', 'Remo Paralímpico', 'Paraciclismo Pista', 'Atletismo', 'Remo Paralímpico', 'Atletismo', 'Tiro com Arco Paralímpico', 'Natação Paralímpica', 'Tiro com Arco', 'Judô de Cegos', 'Atletismo', 'Natação Paralímpica', 'Natação', 'Natação', 'Atletismo', 'Tênis de Mesa', 'Natação Paralímpica', 'Halterofilismo', 'Natação Paralímpica', 'Natação', 'Tênis de Mesa Paralímpico', 'Concurso Completo de Equitação (CCE)', 'Esgrima em CR', 'Badminton (CBDS)', 'Natação Paralímpica', 'Atletismo', 'Remo Paralímpico', 'Atletismo', 'Tênis de Mesa Paralímpico', 'Natação Paralímpica', 'Ginástica Rítmica', 'Atletismo', 'Remo Paralímpico', 'Atletismo Paralímpico', 'Bobsled', 'Bobsled', 'Cross Country', 'Atletismo', 'Atletismo', 'Atletismo Paralímpico', 'Bocha Paralímpica', 'Bobsled', 'Halterofilismo', 'Badminton', 'Atletismo Paralímpico', 'Atletismo Paralímpico', 'Pistola', 'Atletismo', 'Natação Paralímpica', 'Street', 'Atletismo Paralímpico', 'Atletismo', 'Atletismo', 'Natação', 'Ginástica Artística', 'Atletismo Paralímpico', 'Atletismo Paralímpico', 'Natação', 'Badminton (CBDS)', 'Atletismo', 'Vela', 'Natação', 'Badminton (CBDS)', 'Ginástica Rítmica', 'Paracanoagem', 'Natação', 'Street', 'Atletismo Paralímpico', 'Esgrima', 'Natação', 'Natação', 'Tênis em CR', 'Atletismo Paralímpico', 'Tênis de Mesa', 'Tiro com Arco Paralímpico', 'Vela', 'Tiro com Arco Paralímpico', 'Atletismo (CBDS)', 'Taekwondo (Kyorugi)', 'Saltos Ornamentais', 'Saltos Ornamentais', 'Surfing', 'Atletismo', 'Atletismo Paralímpico', 'Remo Paralímpico', 'Cross Country', 'Bobsled', 'Tênis de Mesa Paralímpico', 'Atletismo Paralímpico', 'Tênis de Mesa', 'Atletismo Paralímpico', 'Atletismo', 'Halterofilismo', 'Adestramento', 'Atletismo Paralímpico', 'Atletismo', 'Paratriathlon', 'Natação Paralímpica', 'Remo Paralímpico', 'Atletismo', 'Atletismo Paralímpico', 'Atletismo Paralímpico', 'Atletismo', 'Atletismo Paralímpico', 'Atletismo', 'Halterofilismo', 'Tênis', 'Natação', 'Tênis de Mesa Paralímpico', 'Street', 'Atletismo Paralímpico', 'Saltos Ornamentais', 'Tênis de Mesa', 'Atletismo', 'Atletismo', 'Orientação (CBDS)', 'Atletismo Paralímpico', 'Triathlon', 'Natação', 'Tênis de Mesa Paralímpico', 'Park', 'Moutain Bike', 'Cross Country', 'Natação', 'Bocha Paralímpica', 'Tênis', 'Concurso Completo de Equitação (CCE)', 'Atletismo', 'Vela', 'Ginástica Rítmica', 'Natação (CBDS)', 'Halterofilismo', 'Atletismo Paralímpico', 'Tênis de Mesa Paralímpico', 'Saltos', 'Vela', 'Atletismo', 'Atletismo Paralímpico', 'Natação', 'Atletismo', 'Tênis em CR', 'Judô de Cegos', 'Tênis em CR', 'Remo Paralímpico', 'Natação', 'Bocha Paralímpica', 'Orientação (CBDS)', 'Natação', 'Atletismo Paralímpico', 'Ginástica Rítmica', 'Atletismo', 'Natação Paralímpica', 'Atletismo', 'Atletismo Paralímpico', 'Atletismo', 'Tênis de Mesa Paralímpico', 'Saltos', 'Canoagem Slalom', 'Park', 'Natação', 'Atletismo', 'Atletismo Paralímpico', 'BMX Racing', 'Judô', 'Concurso Completo de Equitação (CCE)', 'Tênis em CR', 'Bobsled', 'Vôlei de Praia', 'Atletismo Paralímpico', 'BMX Racing', 'Atletismo Paralímpico', 'Orientação (CBDS)', 'Cross Country Paralímpico (Rollerski)', 'Atletismo Paralímpico', 'Atletismo', 'Atletismo (CBDS)', 'Natação Paralímpica', 'Atletismo', 'Natação Paralímpica', 'Atletismo Paralímpico', 'Atletismo', 'Adestramento Paraesquetre', 'Surfing', 'Atletismo Paralímpico', 'Atletismo', 'Natação', 'Natação Paralímpica', 'Atletismo', 'Atletismo Paralímpico', 'Atletismo', 'Atletismo Paralímpico', 'Atletismo', 'Atletismo', 'Tênis', 'Atletismo', 'Remo Paralímpico', 'Esgrima em CR']\n"
     ]
    }
   ],
   "source": [
    "# Inicialize o driver do Selenium\n",
    "driver = webdriver.Chrome(service=Service(ChromeDriverManager().install()))\n",
    "\n",
    "# URL da página a ser scrapeada\n",
    "url = 'https://www.in.gov.br/en/web/dou/-/portaria-mesp-n-59-de-21-de-maio-de-2024-561242616'\n",
    "driver.get(url)\n",
    "\n",
    "# Scroll down até o final da página\n",
    "body = driver.find_element(By.TAG_NAME, 'body')\n",
    "for _ in range(10):  # Ajuste o número de scrolls conforme necessário\n",
    "    body.send_keys(Keys.PAGE_DOWN)\n",
    "    time.sleep(1)\n",
    "\n",
    "# Parse o HTML usando BeautifulSoup\n",
    "html = driver.page_source\n",
    "soup = BeautifulSoup(html, 'html.parser')\n",
    "\n",
    "# Encontre a tabela com a classe \"dou-table\"\n",
    "table = soup.find('table', class_='dou-table')\n",
    "\n",
    "# Inicialize as listas para armazenar os dados\n",
    "nomes = []\n",
    "cpfs = []\n",
    "esportes = []\n",
    "\n",
    "# Verifique se a tabela foi encontrada\n",
    "if table:\n",
    "    tbody = table.find('tbody')\n",
    "    trs = tbody.find_all('tr')\n",
    "    \n",
    "    for tr in trs:\n",
    "        tds = tr.find_all('td')\n",
    "        \n",
    "        # Verifique se há elementos <td> suficientes no <tr>\n",
    "        if len(tds) >= 4:\n",
    "            nome_p = tds[1].find('p', class_='dou-paragraph')\n",
    "            cpf_p = tds[2].find('p', class_='dou-paragraph')\n",
    "            esporte_p = tds[3].find('p', class_='dou-paragraph')\n",
    "            \n",
    "            # Verifique se os elementos <p> foram encontrados e extraia o texto\n",
    "            if nome_p and cpf_p and esporte_p:\n",
    "                nomes.append(nome_p.text.strip())\n",
    "                cpfs.append(cpf_p.text.strip())\n",
    "                esportes.append(esporte_p.text.strip())\n",
    "\n",
    "# Imprima as listas para verificar os dados extraídos\n",
    "print(\"Nomes:\", nomes)\n",
    "print(\"CPFs:\", cpfs)\n",
    "print(\"Esportes:\", esportes)\n",
    "\n",
    "# Feche o driver\n",
    "driver.quit()"
   ]
  },
  {
   "cell_type": "code",
   "execution_count": 7,
   "metadata": {},
   "outputs": [
    {
     "data": {
      "text/plain": [
       "211"
      ]
     },
     "execution_count": 7,
     "metadata": {},
     "output_type": "execute_result"
    }
   ],
   "source": [
    "len(nomes)"
   ]
  },
  {
   "cell_type": "code",
   "execution_count": 3,
   "metadata": {},
   "outputs": [],
   "source": [
    "data = {\n",
    "    'Nome': nomes,\n",
    "    'CPFs': cpfs,\n",
    "    'Esporte': esportes\n",
    "}\n",
    "\n",
    "df = pd.DataFrame(data)\n",
    "df.to_csv('Atletas Portaria MESP.csv', index=False)"
   ]
  }
 ],
 "metadata": {
  "kernelspec": {
   "display_name": "Python 3",
   "language": "python",
   "name": "python3"
  },
  "language_info": {
   "codemirror_mode": {
    "name": "ipython",
    "version": 3
   },
   "file_extension": ".py",
   "mimetype": "text/x-python",
   "name": "python",
   "nbconvert_exporter": "python",
   "pygments_lexer": "ipython3",
   "version": "3.11.4"
  }
 },
 "nbformat": 4,
 "nbformat_minor": 2
}
