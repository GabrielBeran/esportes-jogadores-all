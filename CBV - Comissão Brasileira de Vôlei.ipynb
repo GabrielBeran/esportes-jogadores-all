{
 "cells": [
  {
   "cell_type": "code",
   "execution_count": 1,
   "metadata": {},
   "outputs": [],
   "source": [
    "from selenium import webdriver\n",
    "from selenium.webdriver.chrome.service import Service\n",
    "from selenium.webdriver.support.ui import Select\n",
    "import pandas as pd\n",
    "import time\n",
    "from webdriver_manager.chrome import ChromeDriverManager\n",
    "from selenium.webdriver.common.by import By\n",
    "from selenium.webdriver.support.ui import WebDriverWait\n",
    "from selenium.webdriver.support import expected_conditions as EC\n",
    "from selenium.webdriver.common.action_chains import ActionChains\n",
    "from selenium.webdriver.common.by import By\n",
    "from selenium.common.exceptions import TimeoutException, NoSuchElementException\n",
    "from selenium.common.exceptions import StaleElementReferenceException\n",
    "import os\n",
    "from selenium.webdriver.chrome.service import Service as ChromeService\n",
    "from selenium.webdriver.chrome.options import Options\n",
    "import requests\n",
    "import PyPDF2\n",
    "import re"
   ]
  },
  {
   "cell_type": "code",
   "execution_count": 2,
   "metadata": {},
   "outputs": [],
   "source": [
    "websites = ['https://cbv.com.br/superliga/equipes/equipes-masculino/', 'https://cbv.com.br/superliga/equipes/equipes-feminino/', 'https://cbv.com.br/superligab/equipes/']\n",
    "links = []\n",
    "arquivos = []\n",
    "PDFs = []"
   ]
  },
  {
   "cell_type": "code",
   "execution_count": 3,
   "metadata": {},
   "outputs": [],
   "source": [
    "service = Service(ChromeDriverManager().install())\n",
    "driver = webdriver.Chrome(service=service)\n",
    "\n",
    "for website in websites:\n",
    "    driver.get(website)\n",
    "    driver.maximize_window()\n",
    "\n",
    "    elementos_div = driver.find_elements(By.XPATH, '//div[@class=\"row table-item a\"]')\n",
    "\n",
    "    for elemento_div in elementos_div:\n",
    "        elemento_a = elemento_div.find_element(By.TAG_NAME, 'a')\n",
    "        link = elemento_a.get_attribute('href')\n",
    "        links.append(link)\n",
    "    \n",
    "    elementos_div2 = driver.find_elements(By.XPATH, '//div[@class=\"row table-item b\"]')\n",
    "\n",
    "    for elemento_div2 in elementos_div2:\n",
    "        elemento_a2 = elemento_div2.find_element(By.TAG_NAME, 'a')\n",
    "        link = elemento_a2.get_attribute('href')\n",
    "        links.append(link)"
   ]
  },
  {
   "cell_type": "code",
   "execution_count": 4,
   "metadata": {},
   "outputs": [],
   "source": [
    "links.clear()"
   ]
  },
  {
   "cell_type": "code",
   "execution_count": 5,
   "metadata": {},
   "outputs": [
    {
     "name": "stdout",
     "output_type": "stream",
     "text": [
      "[]\n"
     ]
    },
    {
     "data": {
      "text/plain": [
       "0"
      ]
     },
     "execution_count": 5,
     "metadata": {},
     "output_type": "execute_result"
    }
   ],
   "source": [
    "print(links)\n",
    "len(links)"
   ]
  },
  {
   "cell_type": "code",
   "execution_count": 6,
   "metadata": {},
   "outputs": [
    {
     "name": "stdout",
     "output_type": "stream",
     "text": [
      "Todos os downloads concluídos.\n",
      "Nomes dos arquivos baixados: []\n"
     ]
    }
   ],
   "source": [
    "diretorio_de_destino = 'C:\\\\Users\\\\GabrielBeranRodrigue\\\\Desktop\\\\Exato\\\\Pyhon\\\\Download Arquivos'  # Substitua pelo caminho desejado\n",
    "\n",
    "for url in links:\n",
    "    # Obtenha o nome do arquivo a partir da URL\n",
    "    nome_do_arquivo = url.split(\"/\")[-1]\n",
    "\n",
    "    # Adicione o nome do arquivo à lista de arquivos\n",
    "    arquivos.append(nome_do_arquivo)\n",
    "\n",
    "    # Crie o caminho completo do arquivo de destino\n",
    "    caminho_completo = os.path.join(diretorio_de_destino, nome_do_arquivo)\n",
    "\n",
    "    # Faça o download do PDF\n",
    "    response = requests.get(url)\n",
    "\n",
    "    # Verifique se a solicitação foi bem-sucedida (código de status 200)\n",
    "    if response.status_code == 200:\n",
    "        # Abra o arquivo no modo binário e escreva o conteúdo do PDF nele\n",
    "        with open(caminho_completo, 'wb') as arquivo:\n",
    "            arquivo.write(response.content)\n",
    "        print(f\"Download de {nome_do_arquivo} concluído.\")\n",
    "    else:\n",
    "        print(f\"Erro ao baixar {nome_do_arquivo} - Status de resposta: {response.status_code}\")\n",
    "\n",
    "print(\"Todos os downloads concluídos.\")\n",
    "\n",
    "# Agora a lista de arquivos contém os nomes de todos os arquivos baixados\n",
    "print(\"Nomes dos arquivos baixados:\", arquivos)"
   ]
  },
  {
   "cell_type": "code",
   "execution_count": 7,
   "metadata": {},
   "outputs": [
    {
     "name": "stdout",
     "output_type": "stream",
     "text": [
      "[]\n"
     ]
    }
   ],
   "source": [
    "print(arquivos)"
   ]
  },
  {
   "cell_type": "code",
   "execution_count": 8,
   "metadata": {},
   "outputs": [],
   "source": [
    "for arquivo in arquivos:\n",
    "    caminho_arquivo_pdf = f'C:\\\\Users\\\\GabrielBeranRodrigue\\\\Desktop\\\\Exato\\\\Pyhon\\\\Download Arquivos\\\\{arquivo}' # Altere para o caminho onde os arquivos se encontram, mas mantenha o final \\\\{arquivo}\n",
    "\n",
    "    # Abra o arquivo PDF em modo de leitura binária\n",
    "    with open(caminho_arquivo_pdf, 'rb') as pdf_file:\n",
    "        pdf_reader = PyPDF2.PdfReader(pdf_file)\n",
    "\n",
    "        # Verifique o número de páginas no PDF\n",
    "        num_paginas = len(pdf_reader.pages)\n",
    "\n",
    "        texto_completo = ''  # Inicialize uma string para armazenar o texto completo do PDF\n",
    "\n",
    "        # Extraia o texto de cada página\n",
    "        for pagina_numero in range(num_paginas):\n",
    "            pagina = pdf_reader.pages[pagina_numero]\n",
    "            texto = pagina.extract_text()\n",
    "            texto_completo += texto  # Adicione o texto da página ao texto completo\n",
    "\n",
    "        PDFs.append(texto_completo)  # Adicione o texto completo à lista de PDFs\n",
    "\n",
    "# Agora a lista PDFs contém o texto completo de cada arquivo PDF\n",
    "for i, pdf_text in enumerate(PDFs):\n",
    "    print(f\"Texto do arquivo {arquivos[i]}:\\n{pdf_text}\\n\")"
   ]
  },
  {
   "cell_type": "code",
   "execution_count": 9,
   "metadata": {},
   "outputs": [
    {
     "data": {
      "text/plain": [
       "0"
      ]
     },
     "execution_count": 9,
     "metadata": {},
     "output_type": "execute_result"
    }
   ],
   "source": [
    "len(PDFs)"
   ]
  },
  {
   "cell_type": "code",
   "execution_count": 10,
   "metadata": {},
   "outputs": [],
   "source": [
    "def remover_cabecalho(texto):\n",
    "    padrao = r\"NºNome do jogador\"\n",
    "    correspondencia = re.search(padrao, texto)\n",
    "    if correspondencia:\n",
    "        texto_limpo = texto[correspondencia.end():]\n",
    "    else:\n",
    "        texto_limpo = texto\n",
    "    return texto_limpo\n",
    "\n",
    "# Remova o cabeçalho de cada item na lista PDFs\n",
    "PDFs_limpos = [remover_cabecalho(texto) for texto in PDFs]\n",
    "\n",
    "# Imprima a lista resultante\n",
    "for texto_limpo in PDFs_limpos:\n",
    "    print(texto_limpo)"
   ]
  },
  {
   "cell_type": "code",
   "execution_count": 11,
   "metadata": {},
   "outputs": [
    {
     "name": "stdout",
     "output_type": "stream",
     "text": [
      "### Conteúdo restante após LÍBERO ###\n"
     ]
    }
   ],
   "source": [
    "PDFs_limpos_filtrados = []\n",
    "PDFs_sobra = []\n",
    "\n",
    "for pdf in PDFs_limpos:\n",
    "    # Divida o texto em linhas\n",
    "    linhas = pdf.split('\\n')\n",
    "    \n",
    "    # Encontre o índice da linha que contém \"LÍBERO\"\n",
    "    indices_libero = [i for i, linha in enumerate(linhas) if \"LíBERO\" in linha]\n",
    "\n",
    "    if indices_libero:\n",
    "        # Encontre o índice mais baixo (primeira ocorrência de \"LÍBERO\")\n",
    "        indice_libero = min(indices_libero)\n",
    "        \n",
    "        # Mantenha apenas as linhas até \"LÍBERO\"\n",
    "        pdf_limpo = '\\n'.join(linhas[:indice_libero])\n",
    "        PDFs_limpos_filtrados.append(pdf_limpo)\n",
    "        \n",
    "        # Salve o conteúdo restante após \"LÍBERO\"\n",
    "        pdf_sobra = '\\n'.join(linhas[indice_libero:])\n",
    "        PDFs_sobra.append(pdf_sobra)\n",
    "    else:\n",
    "        # Se \"LÍBERO\" não foi encontrado, mantenha o texto original em ambas as listas\n",
    "        PDFs_limpos_filtrados.append(pdf)\n",
    "        PDFs_sobra.append(pdf)\n",
    "\n",
    "# Imprima a lista resultante\n",
    "#for pdf_limpo in PDFs_limpos_filtrados:\n",
    "    #print(pdf_limpo)\n",
    "    \n",
    "print(\"### Conteúdo restante após LÍBERO ###\")\n",
    "for pdf_sobra in PDFs_sobra:\n",
    "    print(pdf_sobra)"
   ]
  },
  {
   "cell_type": "code",
   "execution_count": 12,
   "metadata": {},
   "outputs": [
    {
     "name": "stdout",
     "output_type": "stream",
     "text": [
      "[]\n"
     ]
    }
   ],
   "source": [
    "# Inicialize uma lista vazia para armazenar os nomes limpos\n",
    "nomes_limpos = []\n",
    "\n",
    "# Use expressões regulares para remover números e a frase \"NºNome do jogador\"\n",
    "for item in PDFs_limpos_filtrados:\n",
    "    nome_limpo = re.sub(r'\\d+|NºNome do jogador', '', item).strip()\n",
    "    if nome_limpo:  # Verifique se a string resultante não está vazia\n",
    "        nomes_limpos.append(nome_limpo)\n",
    "\n",
    "# Imprima a lista de nomes limpos\n",
    "print(nomes_limpos)"
   ]
  },
  {
   "cell_type": "code",
   "execution_count": 13,
   "metadata": {},
   "outputs": [
    {
     "name": "stdout",
     "output_type": "stream",
     "text": [
      "[]\n"
     ]
    },
    {
     "data": {
      "text/plain": [
       "0"
      ]
     },
     "execution_count": 13,
     "metadata": {},
     "output_type": "execute_result"
    }
   ],
   "source": [
    "# Substitua os caracteres de quebra de linha por vírgulas em cada valor\n",
    "nomes_com_virgulas = [nome.replace('\\n', ', ') for nome in nomes_limpos]\n",
    "\n",
    "# Imprima a lista com vírgulas\n",
    "print(nomes_com_virgulas)\n",
    "len(nomes_com_virgulas)"
   ]
  },
  {
   "cell_type": "code",
   "execution_count": 14,
   "metadata": {},
   "outputs": [
    {
     "name": "stdout",
     "output_type": "stream",
     "text": [
      "[]\n"
     ]
    },
    {
     "data": {
      "text/plain": [
       "0"
      ]
     },
     "execution_count": 14,
     "metadata": {},
     "output_type": "execute_result"
    }
   ],
   "source": [
    "nomes_divididos = []\n",
    "\n",
    "# Itere sobre a lista e divida cada valor por \", \"\n",
    "for valor in nomes_com_virgulas:\n",
    "    nomes = valor.split(', ')\n",
    "    nomes_divididos.extend(nomes)  # Adicione os nomes à lista final\n",
    "\n",
    "# Imprima a lista de nomes divididos\n",
    "nomes_divididos = list(set(nomes_divididos))\n",
    "print(nomes_divididos)\n",
    "len(nomes_divididos)"
   ]
  },
  {
   "cell_type": "code",
   "execution_count": 15,
   "metadata": {},
   "outputs": [
    {
     "name": "stdout",
     "output_type": "stream",
     "text": [
      "### Conteúdo restante após ASSINATURA ###\n"
     ]
    }
   ],
   "source": [
    "# Inicialize as listas de resultado\n",
    "nomes_banco = []\n",
    "PDFs_sobra2 = []\n",
    "\n",
    "for pdf in PDFs_sobra:\n",
    "    # Divida o texto em linhas\n",
    "    linhas = pdf.split('\\n')\n",
    "    \n",
    "    # Encontre o índice da linha que contém \"LÍBERO\"\n",
    "    indices_libero = [i for i, linha in enumerate(linhas) if \"ASSINATURA\" in linha]\n",
    "\n",
    "    if indices_libero:\n",
    "        # Encontre o índice mais baixo (primeira ocorrência de \"LÍBERO\")\n",
    "        indice_libero = min(indices_libero)\n",
    "        \n",
    "        # Mantenha apenas as linhas até \"LÍBERO\"\n",
    "        pdf_limpo = '\\n'.join(linhas[:indice_libero])\n",
    "        nomes_banco.append(pdf_limpo)\n",
    "        \n",
    "        # Salve o conteúdo restante após \"LÍBERO\"\n",
    "        pdf_sobra = '\\n'.join(linhas[indice_libero:])\n",
    "        PDFs_sobra2.append(pdf_sobra)\n",
    "    else:\n",
    "        # Se \"LÍBERO\" não foi encontrado, mantenha o texto original em ambas as listas\n",
    "        nomes_banco.append(pdf)\n",
    "        PDFs_sobra2.append(pdf)\n",
    "\n",
    " #Imprima a lista resultante\n",
    "#for pdf_limpo in nomes_banco:\n",
    "    #print(pdf_limpo)\n",
    "    \n",
    "# Usar lista PDFs_sobra2 no futuro se necessário\n",
    "print(\"### Conteúdo restante após ASSINATURA ###\")\n",
    "for pdf_sobra in PDFs_sobra2:\n",
    "    print(pdf_sobra)"
   ]
  },
  {
   "cell_type": "code",
   "execution_count": 16,
   "metadata": {},
   "outputs": [
    {
     "name": "stdout",
     "output_type": "stream",
     "text": [
      "[]\n"
     ]
    }
   ],
   "source": [
    "print(nomes_banco)"
   ]
  },
  {
   "cell_type": "code",
   "execution_count": 17,
   "metadata": {},
   "outputs": [],
   "source": [
    "nomes_banco_fitrados = []\n",
    "# Padrão de expressão regular para encontrar números\n",
    "padrao_numeros = r'\\d+'\n",
    "\n",
    "for valor in nomes_banco:\n",
    "    # Use a expressão regular para remover números\n",
    "    valor_sem_numeros = re.sub(padrao_numeros, '', valor)\n",
    "\n",
    "    # Remova a palavra \"LíBERO\" e a frase \"MEMBROS OFICIAIS ADMITIDOS NO BANCO\"\n",
    "    valor_filtrado = valor_sem_numeros.replace(\"LíBERO\", \"\").replace(\"MEMBROS OFICIAIS ADMITIDOS NO BANCO\", \"\")\n",
    "\n",
    "    # Adicione o valor filtrado à lista de resultados\n",
    "    nomes_banco_fitrados.append(valor_filtrado.strip())\n",
    "\n",
    "# Imprima a lista resultante\n",
    "for nome in nomes_banco_fitrados:\n",
    "    print(nome)"
   ]
  },
  {
   "cell_type": "code",
   "execution_count": 18,
   "metadata": {},
   "outputs": [],
   "source": [
    "nomes_banco_filtrados2 = []\n",
    "\n",
    "prefixos = [\"L\", \"AT\", \"F\", \"PF\", \"T\"]\n",
    "\n",
    "for valor in nomes_banco_fitrados:\n",
    "    # Divida o valor em linhas\n",
    "    linhas = valor.split('\\n')\n",
    "\n",
    "    # Inicialize uma lista para as linhas filtradas\n",
    "    linhas_filtradas = []\n",
    "\n",
    "    for linha in linhas:\n",
    "        # Remova os prefixos\n",
    "        for prefixo in prefixos:\n",
    "            if linha.startswith(prefixo):\n",
    "                linha = linha[len(prefixo):]\n",
    "\n",
    "        # Adicione a linha filtrada à lista de linhas\n",
    "        linhas_filtradas.append(linha.strip())\n",
    "\n",
    "    # Combine as linhas filtradas em um único valor\n",
    "    valor_filtrado = '\\n'.join(linhas_filtradas)\n",
    "\n",
    "    # Adicione o valor filtrado à lista de resultados\n",
    "    nomes_banco_filtrados2.append(valor_filtrado)\n",
    "\n",
    "# Imprima a lista resultante\n",
    "for nome in nomes_banco_filtrados2:\n",
    "    print(nome)"
   ]
  },
  {
   "cell_type": "code",
   "execution_count": 19,
   "metadata": {},
   "outputs": [
    {
     "name": "stdout",
     "output_type": "stream",
     "text": [
      "[]\n"
     ]
    },
    {
     "data": {
      "text/plain": [
       "0"
      ]
     },
     "execution_count": 19,
     "metadata": {},
     "output_type": "execute_result"
    }
   ],
   "source": [
    "# Inicializa a lista de nomes finais\n",
    "nomes_banco_final = []\n",
    "\n",
    "# Divide as linhas e adiciona à lista de nomes finais\n",
    "for linha in nomes_banco_filtrados2:\n",
    "    nomes = linha.split('\\n')\n",
    "    nomes_formatados = [\"'\" + nome + \"'\" for nome in nomes if nome.strip()]  # Remove linhas vazias\n",
    "    if nomes_formatados:\n",
    "        nomes_banco_final.append(\", \".join(nomes_formatados))\n",
    "\n",
    "print(nomes_banco_final)\n",
    "len(nomes_banco_final)"
   ]
  },
  {
   "cell_type": "code",
   "execution_count": 20,
   "metadata": {},
   "outputs": [
    {
     "name": "stdout",
     "output_type": "stream",
     "text": [
      "[]\n"
     ]
    },
    {
     "data": {
      "text/plain": [
       "0"
      ]
     },
     "execution_count": 20,
     "metadata": {},
     "output_type": "execute_result"
    }
   ],
   "source": [
    "# Lista vazia para armazenar os novos valores\n",
    "nova_lista = []\n",
    "\n",
    "# Iterar pela lista e transformar os valores entre aspas simples em novos valores\n",
    "for item in nomes_banco_final:\n",
    "    valores = item.split(\"', '\")  # Divide a string com base em \"', '\"\n",
    "    for valor in valores:\n",
    "        novo_valor = valor.strip(\"'\")  # Remove as aspas simples do início e do fim\n",
    "        nova_lista.append(novo_valor)\n",
    "\n",
    "# Imprima a nova lista\n",
    "print(nova_lista)\n",
    "len(nova_lista)"
   ]
  },
  {
   "cell_type": "code",
   "execution_count": 21,
   "metadata": {},
   "outputs": [
    {
     "name": "stdout",
     "output_type": "stream",
     "text": [
      "[]\n"
     ]
    },
    {
     "data": {
      "text/plain": [
       "0"
      ]
     },
     "execution_count": 21,
     "metadata": {},
     "output_type": "execute_result"
    }
   ],
   "source": [
    "# Unir as listas\n",
    "lista_unida = nomes_divididos + nova_lista\n",
    "lista_unida = list(set(lista_unida))\n",
    "\n",
    "print(lista_unida)\n",
    "len(lista_unida)"
   ]
  },
  {
   "cell_type": "code",
   "execution_count": 22,
   "metadata": {},
   "outputs": [],
   "source": [
    "# Código para importar arquivos de saida e analisá-los\n",
    "# Caminho do arquivo de saída\n",
    "#caminho_arquivo_saida = 'C:\\\\Users\\\\GabrielBeranRodrigue\\\\Desktop\\\\Exato\\\\Pyhon\\\\Download Arquivos\\\\PDFs_sobra2.txt'\n",
    "\n",
    "# Conteúdo a ser salvo no arquivo\n",
    "#conteudo_para_salvar = '\\n\\n'.join(PDFs_sobra2)\n",
    "\n",
    "# Abra o arquivo no modo de escrita e salve o conteúdo\n",
    "#with open(caminho_arquivo_saida, 'w', encoding='utf-8') as arquivo_saida:\n",
    "#    arquivo_saida.write(conteudo_para_salvar)\n",
    "\n",
    "#print(f\"Conteúdo salvo em {caminho_arquivo_saida}\")"
   ]
  },
  {
   "cell_type": "code",
   "execution_count": 23,
   "metadata": {},
   "outputs": [],
   "source": [
    "df_list = pd.DataFrame({'Membro': lista_unida})\n",
    "df_list.to_csv('Membros CBV Vôlei Teste.csv', index=False)"
   ]
  }
 ],
 "metadata": {
  "kernelspec": {
   "display_name": "Python 3",
   "language": "python",
   "name": "python3"
  },
  "language_info": {
   "codemirror_mode": {
    "name": "ipython",
    "version": 3
   },
   "file_extension": ".py",
   "mimetype": "text/x-python",
   "name": "python",
   "nbconvert_exporter": "python",
   "pygments_lexer": "ipython3",
   "version": "3.11.4"
  }
 },
 "nbformat": 4,
 "nbformat_minor": 2
}
