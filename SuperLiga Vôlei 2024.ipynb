{
 "cells": [
  {
   "cell_type": "code",
   "execution_count": 25,
   "metadata": {},
   "outputs": [],
   "source": [
    "from selenium import webdriver\n",
    "from selenium.webdriver.chrome.service import Service\n",
    "from selenium.webdriver.support.ui import Select\n",
    "import pandas as pd\n",
    "import time\n",
    "from webdriver_manager.chrome import ChromeDriverManager\n",
    "from selenium.webdriver.common.by import By\n",
    "from selenium.webdriver.support.ui import WebDriverWait\n",
    "from selenium.webdriver.support import expected_conditions as EC\n",
    "from selenium.webdriver.common.action_chains import ActionChains\n",
    "from selenium.webdriver.common.by import By\n",
    "from selenium.common.exceptions import TimeoutException, NoSuchElementException\n",
    "from selenium.common.exceptions import StaleElementReferenceException\n",
    "import os"
   ]
  },
  {
   "cell_type": "code",
   "execution_count": 26,
   "metadata": {},
   "outputs": [],
   "source": [
    "links = []\n",
    "nomes = []\n",
    "websites = ['https://cbv.com.br/superliga/equipes/equipes-masculino/', 'https://cbv.com.br/superliga/equipes/equipes-feminino/']\n",
    "teste = ['https://cbv.com.br/superliga/equipes/equipe/?team=13']"
   ]
  },
  {
   "cell_type": "code",
   "execution_count": 27,
   "metadata": {},
   "outputs": [],
   "source": [
    "service = Service(ChromeDriverManager().install())\n",
    "driver = webdriver.Chrome(service=service)\n",
    "\n",
    "for website in websites:\n",
    "    # Abra a página da web\n",
    "    driver.get(website)\n",
    "    driver.maximize_window()\n",
    "\n",
    "    time.sleep(10)\n",
    "\n",
    "    # Aguarde até que os elementos div estejam visíveis na página\n",
    "    wait = WebDriverWait(driver, 10)  # Espera por até 10 segundos\n",
    "    elementos_div = wait.until(EC.presence_of_all_elements_located((By.XPATH, '//div[contains(@class, \"elementor-column elementor-col-25 elementor-inner-column elementor-element\")]')))\n",
    "\n",
    "    # Para cada elemento div encontrado, procurar dentro dele os elementos <a>\n",
    "    for div in elementos_div:\n",
    "        # Aqui, também podemos inserir um WebDriverWait caso os elementos <a> sejam carregados dinamicamente\n",
    "        elements_a = div.find_elements(By.XPATH, './/a')\n",
    "        \n",
    "        # Para cada elemento <a> encontrado, extrair o atributo href e adicionar à lista de links\n",
    "        for element_a in elements_a:\n",
    "            href = element_a.get_attribute('href')\n",
    "            if href:  # Verificar se o href não é None\n",
    "                links.append(href)\n",
    "\n",
    "    "
   ]
  },
  {
   "cell_type": "code",
   "execution_count": 28,
   "metadata": {},
   "outputs": [
    {
     "name": "stdout",
     "output_type": "stream",
     "text": [
      "['https://cbv.com.br/', 'https://www.facebook.com/confederacaobrasileiradevoleibol', 'https://twitter.com/volei', 'https://www.youtube.com/user/VoleiBrasil1', 'https://instagram.com/cbvolei', 'https://www.tiktok.com/@cbvolei', 'https://www.linkedin.com/company/confedera%C3%A7%C3%A3o-brasileira-de-voleibol/', 'https://cbv.com.br/superliga/equipes/equipe/?team=13', 'https://cbv.com.br/superliga/equipes/equipe/?team=15', 'https://cbv.com.br/superliga/equipes/equipe/?team=17', 'https://cbv.com.br/superliga/equipes/equipe/?team=18', 'https://cbv.com.br/superliga/equipes/equipe/?team=21', 'https://cbv.com.br/superliga/equipes/equipe/?team=36', 'https://cbv.com.br/superliga/equipes/equipe/?team=38', 'https://cbv.com.br/superliga/equipes/equipe/?team=44', 'https://cbv.com.br/superliga/equipes/equipe/?team=46', 'https://cbv.com.br/superliga/equipes/equipe/?team=47', 'https://cbv.com.br/superliga/equipes/equipe/?team=51', 'https://cbv.com.br/superliga/equipes/equipe/?team=52', 'https://cbv.com.br/img/patrocinadores/gol.png', 'https://mikasa.com.br/', 'https://www.usefuel.com.br/', 'https://cbv.com.br/', 'https://www.facebook.com/confederacaobrasileiradevoleibol', 'https://twitter.com/volei', 'https://www.youtube.com/user/VoleiBrasil1', 'https://instagram.com/cbvolei', 'https://www.tiktok.com/@cbvolei', 'https://www.linkedin.com/company/confedera%C3%A7%C3%A3o-brasileira-de-voleibol/', 'https://cbv.com.br/superliga/equipes/equipe/?team=2', 'https://cbv.com.br/superliga/equipes/equipe/?team=3', 'https://cbv.com.br/superliga/equipes/equipe/?team=5', 'https://cbv.com.br/superliga/equipes/equipe/?team=9', 'https://cbv.com.br/superliga/equipes/equipe/?team=12', 'https://cbv.com.br/superliga/equipes/equipe/?team=28', 'https://cbv.com.br/superliga/equipes/equipe/?team=32', 'https://cbv.com.br/superliga/equipes/equipe/?team=41', 'https://cbv.com.br/superliga/equipes/equipe/?team=42', 'https://cbv.com.br/superliga/equipes/equipe/?team=43', 'https://cbv.com.br/superliga/equipes/equipe/?team=49', 'https://cbv.com.br/superliga/equipes/equipe/?team=53', 'https://cbv.com.br/img/patrocinadores/gol.png', 'https://mikasa.com.br/', 'https://www.usefuel.com.br/']\n"
     ]
    },
    {
     "data": {
      "text/plain": [
       "44"
      ]
     },
     "execution_count": 28,
     "metadata": {},
     "output_type": "execute_result"
    }
   ],
   "source": [
    "print(links)\n",
    "len(links)"
   ]
  },
  {
   "cell_type": "code",
   "execution_count": 29,
   "metadata": {},
   "outputs": [
    {
     "name": "stdout",
     "output_type": "stream",
     "text": [
      "['https://cbv.com.br/superliga/equipes/equipe/?team=13', 'https://cbv.com.br/superliga/equipes/equipe/?team=15', 'https://cbv.com.br/superliga/equipes/equipe/?team=17', 'https://cbv.com.br/superliga/equipes/equipe/?team=18', 'https://cbv.com.br/superliga/equipes/equipe/?team=21', 'https://cbv.com.br/superliga/equipes/equipe/?team=36', 'https://cbv.com.br/superliga/equipes/equipe/?team=38', 'https://cbv.com.br/superliga/equipes/equipe/?team=44', 'https://cbv.com.br/superliga/equipes/equipe/?team=46', 'https://cbv.com.br/superliga/equipes/equipe/?team=47', 'https://cbv.com.br/superliga/equipes/equipe/?team=51', 'https://cbv.com.br/superliga/equipes/equipe/?team=52', 'https://cbv.com.br/superliga/equipes/equipe/?team=2', 'https://cbv.com.br/superliga/equipes/equipe/?team=3', 'https://cbv.com.br/superliga/equipes/equipe/?team=5', 'https://cbv.com.br/superliga/equipes/equipe/?team=9', 'https://cbv.com.br/superliga/equipes/equipe/?team=12', 'https://cbv.com.br/superliga/equipes/equipe/?team=28', 'https://cbv.com.br/superliga/equipes/equipe/?team=32', 'https://cbv.com.br/superliga/equipes/equipe/?team=41', 'https://cbv.com.br/superliga/equipes/equipe/?team=42', 'https://cbv.com.br/superliga/equipes/equipe/?team=43', 'https://cbv.com.br/superliga/equipes/equipe/?team=49', 'https://cbv.com.br/superliga/equipes/equipe/?team=53']\n"
     ]
    },
    {
     "data": {
      "text/plain": [
       "24"
      ]
     },
     "execution_count": 29,
     "metadata": {},
     "output_type": "execute_result"
    }
   ],
   "source": [
    "links = [link for link in links if \"equipes\" in link]\n",
    "\n",
    "print(links)\n",
    "len(links)"
   ]
  },
  {
   "cell_type": "code",
   "execution_count": 33,
   "metadata": {},
   "outputs": [],
   "source": [
    "for link in links:\n",
    "    driver.get(link)\n",
    "\n",
    "    time.sleep(5)\n",
    "    elementos_article = driver.find_elements(By.XPATH, '//article[contains(@class, \"elementor-post elementor-grid-item perfis_de_atletas\")]')\n",
    "\n",
    "    # Para cada elemento article encontrado, procurar dentro dele os elementos span com o estilo especificado\n",
    "    for article in elementos_article:\n",
    "        spans = article.find_elements(By.XPATH, './/span[@style=\"color:gray\"]')\n",
    "        for span in spans:\n",
    "            # Adicionar o texto do span à lista de nomes\n",
    "            nomes.append(span.text)\n",
    "\n",
    "    wait = WebDriverWait(driver, 10)\n",
    "    nome_time_element = wait.until(EC.presence_of_element_located((By.XPATH, '//*[@id=\"nome_time\"]/small')))\n",
    "    nome_time_text = nome_time_element.text\n",
    "    nomes.append(nome_time_text)\n"
   ]
  },
  {
   "cell_type": "code",
   "execution_count": 35,
   "metadata": {},
   "outputs": [
    {
     "name": "stdout",
     "output_type": "stream",
     "text": [
      "['LUIZ CARLOS RODRIGUES DA SILVA', 'SOPHIA DA CUNHA DANTAS', 'GUILHERME MAGNANI HAGE', 'PAULINA ROGERIO DE SOUZA', 'MARTOS ANTONIO SOARES NETO', 'SANDRA SOARES RIBEIRO DE LIMA', 'LARISSA BESEN', 'CAROLINA GODOY DONATIELLO', 'NAIARA FELIX', 'LARISSA FERREIRA GONCALVES PENNA E FORTES', 'PEDRO MARCON GONCALVES', 'LUKAS FELIPE BERGMANN', 'MIKAELLA DA SILVA COSTA', 'GABRIELA CARNEIRO DE SOUZA', 'MIGUEL ANGEL LOPEZ CASTRO', 'LAÍS ZURLI BITTENCOURT VASQUES', 'LEANDRO TEIXEIRA DOS SANTOS', 'VIVIANE SANDRA BRAUN', 'LORENA GIOVANA VIEZEL', 'VIVIAN CAROLINE MOREIRA RODRIGUES', 'MELQUISEDEQUE VIEIRA PINTO', 'LANNA GABRIELLA GOMES MACHADO', 'CAIO PEREIRA MEIRA', 'ANA CRISTINA VILELA PORTO', 'LUCAS EDUARDO HENNING', 'LUCAIAN FERNANDES PEREIRA', 'LIVIA DOS SANTOS GOMES LIMA', 'ROGERIO PUREZA PORTELA', 'MONIQUE MARINHO PAVÃO', 'ARIADNE CRISTINE RAMOS SANTOS', 'HIAGO VINICIUS BUENO BERNARDES', 'GEOVANE KUHNEN', 'VITORIA MALLMANN PARISE', 'SONALY MONTEIRO CIDRAO', 'LUCAS LIMA DONATO DA SILVA', 'WILIAN GABRIEL DOARDO', 'YASMIN BRASIL ALVES', 'TIAGO GATIBONI WESZ', 'LUCAS OISHI NASCIMENTO', 'ISIS BORTOLASO SIMONETTI', 'JÓ MAURÍCIO DA SILVA NETO', 'JOAO VITOR DOS SANTOS LIMA', 'GUILHERME NOVAES PINTO FERREIRA', 'DIEGO FREIRE ARIAS', 'GIOVANNA OLIVA DE OLIVEIRA', 'ERICA MOTTA LIMA', 'THIAGO EMILIO MOREIRA MAZZONI', 'GABRIELLE EHL', 'MARIA EDUARDA DAVID', 'KELVI GIOVANI DE CAMARGO SOUZA', 'GABRIEL DRUMOND ARMANELLI TELLES', 'CALLIE JANE SCHWARZENBACH', 'LETICIA MAGNANI HAGE', 'MILLA CHRISTIE BARBOSA CAMURCA', 'WALLAF WESLEY DE OLIVEIRA', 'DAIANA KRISTAL LOPEZ', 'ANA LUIZA BENTO', 'RODRIGO SOARES RIBEIRO RODRIGUES', 'MARCOS PINHEIRO MIRANDA', 'GABRIEL VACCARI KAVALKIEVICZ', 'HENRIQUE DANTAS NOBREGA HONORATO', 'AMANDA RODRIGUES SEHN', 'LEONARDO FERREIRA DO NASCIMENTO', 'GEOVANNA VITORIA CAETANO RODRIGUES', 'LEIA HENRIQUE DA SILVA NICOLOSI', 'DANIELLE RODRIGUES LINS', 'KENYA MALACHIAS', 'RALWAN WILLIAM DE CASTRO', 'LUCAS PROVENZANO JOAO DE DEUS', 'ERICK LUIZ SOARES HERCIO', 'CAROLINE DE OLIVEIRA SAAD GATTAZ', 'VICTOR BABUGIA ARAUJO', 'GUSTAVO CAMPELO NOGUEIRA', 'MAURICIO BALLUTA CABRAL', 'PAULO DO REGO BARROS JÚNIOR', 'WILLIAM CARVALHO DA SILVA', 'ANA CECILIA APARECIDA LOPES', 'MATHEUS ALEJANDRO HOFFMANN DA CUNDA', 'ALEXSANDRA UZELAC', 'BRUNO HENRIQUE ALVES', 'ALVARO ARAUJO SILVA', 'PEDRO BELIZARIO ROCHA', 'MAIQUE REIS NASCIMENTO', 'ANDERSON DE OLIVEIRA RODRIGUES', 'HENRIQUE VINICIUS GUEDES', 'SOFYA KUZNETSOVA', 'LARA NASCIMENTO DE SOUZA', 'GUILHERME RECH', 'CLARA OLIVEIRA RODRIGUES', 'MATHEUS BISPO DOS SANTOS', 'MATIAS FERNANDO BANDA ALVAREZ', 'RAFAEL BATISTA OBRUSNIK', 'SILVANA FERNANDES PAPINI', 'LETICIA ARAUJO DE ALMEIDA HOLANDA MOURA', 'FILIPE AUGUSTO FACCION FERRAZ', 'ISABELLA LETICIA NUNES ROCHA', 'KATIA LARISSA MACHADO DA SILVA', 'TALIA COSTA', 'PEDRO HENRIQUE DOS SANTOS SOUSA', 'GABRIEL SOARES PESSOA', 'JENNA CAMILLE GRAY', 'EVELYN VITORIA CARVALHO CASSIANO', 'MATHEUS SOUZA FERREIRA', 'JOAO PEDRO GAMEIRO DE REZENDE CENTOLA', 'NELMAIRA CAROLINA VALDEZ POL', 'JESSICA EUDA DANTAS DE MOURA', 'ENDRIU GOUVEIA KAZMIRSKI', 'CELSO DA SILVA JUNIOR', 'FRANCINE TOMAZONI', 'JULIANA CARDOSO PERDIGAO', 'PEDRO RAMALHO SILVA', 'JULIANA SANTOS CARRIJO', 'MOISES DE OLIVEIRA ANDRADE', 'FELIPE CAPUTI VARELA', 'MARIANA ALVES CASSEMIRO', 'GUILHERME SCHMITZ VIEIRA', 'ADRIA JULIA DA SILVA', 'GUILHERME AMORIM DA SILVA SOUZA', 'LAIS DA CRUZ DE LIMA', 'TIFANNY PEREIRA DE ABREU', 'JOAO CORDEIRO FRANCK', 'WENNDER CARLOS LOURENCO LOPES', 'ROGERIO BATISTA DE CARVALHO FILHO', 'NATÁLIA PERREIRA DE ARAUJO LIMA', 'SABRINA LEANDRO GROTH', 'MATEUS KONRAD BENDER', 'KARINA BARBOSA DE SOUZA', 'MATHEUS PEREIRA CELESTINO GOMES', 'LAIZA KELLY FIGUEIREDO FERREIRA', 'ANA CLARA MACHADO MEDINA', 'MARIANA BRAMBILLA', 'LETICIA STEFHANE BARBOSA CRUZ', 'ANNIE VALENTINE MITCHEM', 'JUCIELY CRISTINA SILVA', 'GUILHERME LIBERAL EMINA', 'KAROLINE TORMENA', 'MAIARA CRISTINA BASSO', 'MILKA MARCILIA MEDEIROS DA SILVA', 'VICTORIA CASTELLIES MAISONNETTE DAVID', 'NICOLA NEGRO', 'LEONARDO HENRIQUE PINHEIRO', 'THIAGO PONTES VELOSO', 'THAINA KIARELLE EXPEDITA SOUZA', 'MATEUS ANTONIO WINCK PEREIRA', 'MATHEUS PASSARELLI BENTO', 'GABRIEL HENRIQUE GONCALVES OSTAPECHEN', 'JOS ELSON KAISER EPIFANIO', 'ADENIZIA FERREIRA DA SILVA', 'REINALDO DE OUTEIRO DA SILVA', 'BRIE JOY KING', 'JHEOVANA EMANUELE SEBASTIAO', 'SABRINA DE JESUS MACHADO', 'VICTOR MARCELO DOS SANTOS', 'AMANDA KAROLINE SANTANA MARQUES', 'GIOVANA GUIMARAES PIRES', 'GABRIEL BIELER DA SILVA VIRIATO DE MEDEIROS', 'MARIO CESAR QUESADA CRUZ', 'JONATAS WESLEI SANTOS CARDOSO', 'ANGELO ANIBAL VERCESI', 'LUCAS CARNEIRO BORGES', 'ANDRE HENRIQUE GONCALVES SALIBA', 'GUSTAVO CARDOSO', 'CLAIRE DAVIS FELIX', 'NANDYALA SANTOS DA ROCHA GAMA', 'FABIANO PRETURLON RIBEIRO', 'LUANA CAMILA KUSKOWSKI', 'Eduardo Horacio Dileo', 'TALITA JOSE DO NASCIMENTO', 'VALENTINO GNEWUCH DE ABREU', 'JOAO LUCAS DOS SANTOS FONSECA', 'RENAN DA COSTA BONORA', 'DAVI MENEGHELLI', 'NAIANE DE ALMEIDA RIOS', 'MAXILLAM DO NASCIMENTO DE LIMA', 'LEONARDO RYUDI SILVA KIHARA', 'VIVIAN MARIA PELLEGRINO', 'DANIEL MUNIZ DE OLIVEIRA', 'BRUNO LIMA BASOLU', 'CAROLINA GROSSI DE SOUZA SANTOS', 'WILSON DE PAULA TOBIAS DA SILVA', 'ANA LUIZA BERTO AROSTI', 'LORENNE MARIA GERALDO TEIXEIRA', 'DARA FERNANDA HENDGES', 'FELIPE LOURENCO LEAL', 'NATALIA PEREIRA DANIELSKI', 'WILLIAN ROSAS ENGELAGE', 'MICHEL DE SOUZA SARAIVA', 'GABRIELLA GUIMARAES DE SOUZA', 'THAISA DAHER DE MENEZES', 'MILENA VILELA BANKS MIRANDA', 'BEATRIZ MARTINS', 'GABRIEL SCHEFFER DE ALMEIDA', 'JOAO VICTTOR SOARES CORNELSEN', 'VITTORIA ELENA KUEHNE', 'KELLY GOMES DE SOUZA', 'MAICON JOSE LEITE COSTA', 'IVNA FRANCO MARRA COLOMBO DO NASCIMENTO', 'KAREN BEATRIZ MOREIRA DOS ANJOS', 'LUCAS SAATKAMP', 'LUIS CLAUDIO RODRIGUES DA SILVA', 'MARIA LUIZA RABELO MUNDO', 'JULIANA BEATRIZ PALHANO DA SILVA', 'NICOLAS URIARTE', 'PAULO VINICIOS FERREIRA DA SILVA', 'FELIPE DE BRITO FERREIRA', 'TIAGO BRENDLE', 'PEDRO HENRIQUE OLIVEIRA RODRIGUES SOUZA', 'MATHEUS BANDINI', 'GUSTAVO ANDRE ORLANDO', 'LARA NOBRE CARDOSO GONCALVES FILOMENO', 'RAFAEL HENRIQUE MARTINS DOS SANTOS', 'ANA LUIZA PIRINEUS COSTA', 'DANIEL FELIPE RODRIGUES PINTO', 'WELINTON OPPENKOSKI', 'NATASHA ODARA AZEVEDO CRUZ FARINEA', 'BIANCA CARLONE SILVA', 'ALEXANDRE FIGUEIREDO ELIAS', 'MARCUS VINICIUS EVANGELISTA COELHO', 'EDSON JUNIO SOUZA DA PAIXÃO', 'SANDRO BARBALHO DE CARVALHO', 'THIERY FELLIPE OLIVEIRA MORAIS DO NASCIMENTO', 'SARA COSTA BENEVIDES', 'JULIA MOREIRA SANMARTIN SOUZA', 'CRISTIANO TORELLI MELLO TAVARES', 'LIA VITORIA RODRIGUES MARIANO', 'GUILHERME SABINO ALEXANDRE', 'NYEME VICTORIA ALEXANDRE COSTA NUNES', 'CAMILA BARBOSA MONTEIRO', 'STEFANIE TARRAGA', 'MARCOS PAULO SOARES CERQUEIRA', 'ANDERSON ROBERTO BATALHA DE LIMA', 'ROSELY EVARISTO NOGUEIRA', 'LUIZ RICARDO EVANGELISTA DA SILVA', 'THIAGO GOMES DA ANUNCIACAO', 'ROBERT SOUSA DE ARAUJO', 'DANIELA SEIBT', 'LUCAS BATISTA SILVA', 'MARIA FERNANDA ZGODA DE BRITO AFONSO', 'MARCELLE DE ARRUDA MATTOS DA SILVA', 'LUZIA DA SILVA NEZZO', 'AUSTIN JAKE WILMOT', 'FELIPE PARRA ALBUQUERQUE', 'STEPHANY GOMES XAVIER MORETE', 'EVERALDO LUCENA DA SILVA', 'RODRIGO DE GENNARO LEME', 'TAMAKI MATSUI', 'HELENA WENK HOENGEN', 'JUSSARA MARIA TIAGO DA SILVA', 'NEWTON FERNANDES FILHO', 'LOHAYNE OLIVEIRA ENDRES', 'DOUGLAS CORREIA DE SOUZA', 'ALVARO DOURADO BARBOSA', 'FABIANA MARCELINO CLAUDINO', 'GIAN FELIPE DE MORAES', 'ROBSON GOMES AUGUSTO', 'TAINARA LEMES SANTOS', 'YAGO KALIL CAMARGO', 'THIAGO HENRIQUE SENS', 'MATHEUS GONCALVES SILVA', 'GABRIELLE EDUARDA MARCONDES DAS GRAÇAS', 'JOHAN EMILIUS MARENGONI', 'BERNARDO ROCHA DE REZENDE', 'Aldori Gaudêncio Júnior', 'TAICHI HANGAI', 'MAYARA BARCELOS DA SILVA', 'ISAC VIANA SANTOS', 'ANDERSON APARECIDO DE SOUZA FILHO', 'CHARLES DAMIN', 'RENATO RUSSOMANNO DOS SANTOS', 'SAMUEL DOS SANTOS', 'DEMIAN JAVIER GONZALEZ', 'GABRIEL SETEMBRINO MEIRELES MACHADO', 'MILENA SILVA DE SOUZA', 'PIETRO PEREIRA DE JESUS SANTOS', 'MATIAS PROVENSI', 'EDINARA BRANCHER', 'FERNANDA SAGRILLO DEPINO', 'LAISSA SILVA ROSA', 'CAMILA DE PAULA BRAIT', 'ALINE MOSSMANN', 'FILIPE BAIOCO CIPRIANO', 'ANDERSON DE ARAUJO JUNIOR', 'JUMA FERNANDES DA SILVA', 'MAYANY CRISTINA ARAUJO DE SOUZA', 'ARIANNE DE CARVALHO TOLENTINO', 'JULLIANA VITORIA DE ANDRADE COSTA GANDRA', 'MATHEUS PAULO DE PAULA', 'VERONICA ROSE PERRY', 'PAULO SERGIO CARRARO', 'ABENILDES JOSE RODRIGUES JUNIOR', 'DURVAL DE SANTANA NUNES', 'EDNA ELISA SCHLINDWEIN', 'VIVIAN LIMA JORGE', 'JESICA CAMILA WEICH LIBARDI', 'BRYAN BOLL STRAGLIOTTO', 'LUIZOMAR DE MOURA', 'CAIO ALEXANDRE SANTOS DE OLIVEIRA', 'VANESSA JANKE', 'MANOEL HONORATO NETO', 'GIULIA HELENA IMACULADA DIAS MAGIARI', 'WALLACE LEANDRO DE SOUZA', 'ALEXEY DMITRIEVICH NALOBIN', 'PRISCILA OLIVEIRA HELDES', 'DEIVID MOTA SILVEIRA', 'ARIANE HELENA PINTO', 'DARLAN FERREIRA SOUZA', 'AMANDA DANIELLE DA SILVA', 'YAGO DUTRA OLIVEIRA', 'GABRIEL BERTOLINI', 'LUCAS AUGUSTO GONÇALVES FIGUEIREDO', 'DOUGLAS VIEIRA PUREZA', 'FILIPE STOLBERG TEIXEIRA DE CARVALHO', 'CAMILA ALVES LEITE', 'LEANDRO DESTRO DE ALMEIDA PICONI', 'CESAR HENRIQUE ARAUJO DE PAULA', 'MURILO RADKE', 'LUCAS EDUARDO LOH', 'FRANCO WILLIAN CARGNIN PAESE', 'RHENDRICK RESLEY ROSA', 'FRANCIANE RICHTER', 'ANIELLY FERNANDES DOS SANTOS', 'RIAD GARCIA PIRES RIBEIRO', 'MAWAN GIRARDI DOLEJAL', 'PEDRO UEHARA', 'MICHAEL SANCHEZ BOZHULEVA', 'JONADABE CARNEIRO DOS SANTOS', 'BETINA VARNIER ZARTH', 'LUCAS ADRIANO ARAUJO BARRETO', 'LYARA BATISTA MEDEIROS', 'BRENDA MARISSA SILVA MENEZES', 'MAILA SCHNARNDORF RIBEIRO', 'JULIANA TORO', 'JUDSON AMABEL NUNES DA CUNHA JUNIOR', 'VITOR BAESSO', 'SAMUEL CARAZZAI DE MORAIS NEUFELD', 'PAULA CAMILA MOHR', 'EDER FRANCIS CARBONERA', 'GABRIEL CARNEIRO NEGRAO', 'MICHELLE MARINHO PAVAO', 'PEDRO MEIJON DE SOUZA VILELA', 'RODRIGO PIMENTEL SOUZA LEÃO', 'JOAO GABRIEL VALIM PERES BONETTI MOSSA', 'JULIA KOEHLER DA SILVA', 'MARCOS JOSE GONCALVES JUNIOR', 'REBECA CAMILLE PAULA SILVA', 'LETICIA DE LIMA LINHARES', 'ISTEFANI DOS SANTOS SILVA', 'MARIA CLARA ALBRECHT CARVALHAES', 'WITALLO JUAN DE SOUSA OLIVEIRA', 'KIMBERLLY LACERDA GOMES DE BRITO', 'ADRIANO FERNANDES PROCÓPIO XAVIER CAVALCANTE', 'HENRIQUE GUEDES DE PAULA', 'JACKELINE MORENO FIGUEIREDO DOS SANTOS', 'KISY CESARIO DO NASCIMENTO', 'VINICIUS REIS COSTA', 'GIOVANA GASPARINI', 'MAKOLLYS KLAYVER MACHADO MARTI', 'EDUARDO D AGOSTINI WURSTER', 'BRUNA MORAES DOS SANTOS', 'JOSE ADEMAR MONTEIRO DE SANTANA', 'VALQUIRIA CARBONI DULLIUS', 'JUAN PABLO DA GAMA', 'FELIPE MOREIRA ROQUE', 'GUILHERME ARAUJO SANTANA', 'BRYAN LUCAS ALVES DA SILVA', 'GEOVANA VITORIA SILVA FREITAS', 'LEONARDO LUKAS DE OLIVEIRA LEODLTER', 'CAROLINA LEITE', 'CLAUDIA BUENO DA SILVA', 'OTAVIO HENRIQUE RODRIGUES PINTO', 'PRISCILA ZALEWSKI DAROIT', 'MAYHARA FRANCINI DA SILVA', 'LARISSA APARECIDA GONGRA DE SOUZA', 'WAGNER LUIZ COPPINI FERNANDES', 'JOAO VITOR ROSA ADRIANO', 'PRISCILA SOUZA RAMOS', 'ELINA MARIA RODRIGUEZ', 'MARIANA BUENO BLUM', 'KAIO FELIPE DA SILVA TIMBO', 'DANTHON TODZ LEME DOS SANTOS', 'CARLOS HENRIQUE RODRIGUES DE CASTRO', 'VITORIA TRINDADE FIGUEIREDO LAGE', 'ANA LUIZA RUDIGER', 'LEONARDO HENRIQUE SOUZA DE ANDRADE', 'MAURICIO BORGES ALMEIDA E SILVA', 'GLAYCE KELLY TOBIAS VASCONCELOS', 'ALAN PATRICK PEREIRA ARAÚJO', 'LAURA TAVARES CANEDO MACHADO', 'PEDRO HENRIQUE TOMASI', 'BRIONNE KIERRA BUTLER', 'MARA FERREIRA LEAO', 'RAFAEL FORSTER DA PAZ', 'CAMILA MESQUITA DOS SANTOS', 'DAVID FIGUEIREDO DOS SANTOS', 'ANDRE LUIS DONEG�', 'BRUNO TEMPONI ARAUJO', 'NERY PEREIRA TAMBEIRO JUNIOR', 'ROBERT PABLO VALENCA DOS ANJOS', 'FRANCYNNE APARECIDA JACINTHO', 'ARTHUR JAEGER', 'PIETRA ZANCHETTA JUKOSKI DA SILVA', 'FELIPE LEME SCROCCA CUNDIEV', 'RENAN ANDREY FORNAZARI', 'IAN FERREIRA DA SILVA LOPES', 'MAICON DOS SANTOS FRANCA', 'GABRIELA MARTINS SILVA', 'GABRIEL YAN SCHROEDER GRASSEL', 'DOBRIANA IVANOVA RABADZHIEVA', 'MATHEUS LUIZ COSTA SILVA PEDROSA', 'JULIA MACHADO DIAS', 'ARIELE CRISTINE FERREIRA YAMANE', 'YONKAIRA PAOLA PENA ISABEL', 'KASIELY CLEMENTE', 'MOISES MIRANDA DE SOUZA', 'MATHEUS DOBKOWSKI', 'DEBORA FONTELES TAVARES', 'CLEDENILSON SOUZA BATISTA', 'GERSON DE OLIVEIRA AMORIM', 'JOAO VITOR CUSTODIO', 'YADRIAN ESCOBAR SILVA', 'MAIRA CIPRIANO CLARO', 'MARINA MERCES DE OLIVEIRA', 'LUIS HENRIQUE TALLEDO SANTANA', 'YAEL CASTIGLIONE', 'GABRIELA CANDIDO DA SILVA', 'ARTHUR BENTO BUCZMIEJUK', 'DANIELA NUNES CECHETTO', 'BIANCA COIMBRA DA SILVA', 'REBECA BORGES VIANA', 'ISABELA LESSA DOS SANTOS', 'VINICIUS ELIAS DA SILVA SOUSA', 'MATHEUS IVANOWSKI MULLER', 'ANDRESSA HERMINIA GELENSKI PICUSSA', 'THIAGO VACCARI KAVALKIEVICZ', 'LUIZA VICENTE DA SILVA', 'LUCAS DE OLIVEIRA FONSECA', 'JOAO PEDRO CALVI DE AVILA', 'ISABELA DA SILVEIRA PAQUIARDI', 'EDUARDA CAROLINE ALVES DO AMARAL', 'DIEGO APARECIDO DOS SANTOS', 'GABRIEL DE OLIVEIRA COTRIM', 'THALES DE SOUZA FALCAO', 'RENAN MICHELUCCI MORALEZ', 'SAMUEL RODRIGUES DE SOUZA ENGEL', 'ANA PAULA NUNES', 'WALLACE DOS SANTOS', 'CARLOS EDUARDO SCHAWNKE', 'BRENO SILVA DO NASCIMENTO', 'JULIA GAMBATTO KUDIESS', 'MURILLO BRUNO ALVES DA SILVA', 'ALINE SEGATO MAESTRI', 'SUELEN FERNANDA SANTANA PINTO', 'GLAUBER MORENO MEDEIROS DA SILVA SOUZA', 'LUIZ FERNANDO ANDRADA DANIEL', 'YORDAN BISSET ASTENGO', 'STEPHANY MIGUEL MARIA', 'LAYS FERNANDA OLIVEIRA DE FREITAS']\n"
     ]
    },
    {
     "data": {
      "text/plain": [
       "457"
      ]
     },
     "execution_count": 35,
     "metadata": {},
     "output_type": "execute_result"
    }
   ],
   "source": [
    "nomes = [nome.replace(\"Treinador: \", \"\") for nome in nomes]\n",
    "nomes = list(set(nomes))\n",
    "\n",
    "print(nomes)\n",
    "len(nomes)"
   ]
  },
  {
   "cell_type": "code",
   "execution_count": 32,
   "metadata": {},
   "outputs": [],
   "source": [
    "df_list = pd.DataFrame({'Membro': nomes})\n",
    "df_list.to_csv('Membros Superliga 2024.csv', index=False)"
   ]
  }
 ],
 "metadata": {
  "kernelspec": {
   "display_name": "Python 3",
   "language": "python",
   "name": "python3"
  },
  "language_info": {
   "codemirror_mode": {
    "name": "ipython",
    "version": 3
   },
   "file_extension": ".py",
   "mimetype": "text/x-python",
   "name": "python",
   "nbconvert_exporter": "python",
   "pygments_lexer": "ipython3",
   "version": "3.11.4"
  }
 },
 "nbformat": 4,
 "nbformat_minor": 2
}
