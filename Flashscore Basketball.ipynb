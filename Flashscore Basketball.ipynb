{
 "cells": [
  {
   "cell_type": "code",
   "execution_count": 46,
   "metadata": {},
   "outputs": [],
   "source": [
    "from selenium import webdriver\n",
    "from selenium.webdriver.chrome.service import Service\n",
    "from selenium.webdriver.support.ui import Select\n",
    "import pandas as pd\n",
    "import time\n",
    "from webdriver_manager.chrome import ChromeDriverManager\n",
    "from selenium.webdriver.common.by import By\n",
    "from selenium.webdriver.support.ui import WebDriverWait\n",
    "from selenium.webdriver.support import expected_conditions as EC\n",
    "from selenium.webdriver.common.action_chains import ActionChains\n",
    "from selenium.webdriver.common.by import By\n",
    "from selenium.common.exceptions import TimeoutException, NoSuchElementException\n",
    "from selenium.common.exceptions import StaleElementReferenceException"
   ]
  },
  {
   "cell_type": "code",
   "execution_count": 47,
   "metadata": {},
   "outputs": [],
   "source": [
    "equipes = []\n",
    "nomes = []\n",
    "nomes_final = []"
   ]
  },
  {
   "cell_type": "code",
   "execution_count": 48,
   "metadata": {},
   "outputs": [],
   "source": [
    "service = Service(ChromeDriverManager().install())\n",
    "driver = webdriver.Chrome(service=service)\n",
    "campeonatos = ['https://www.flashscore.com.br/basquete/brasil/nbb-2008-2009/arquivo/', 'https://www.flashscore.com.br/basquete/brasil/lbf-fem/arquivo/']\n",
    "for website in websites:\n",
    "    driver.maximize_window()\n",
    "    driver.get(website)\n",
    "\n",
    "    container = WebDriverWait(driver, 10).until(EC.presence_of_element_located((By.XPATH, '//section[@id=\"tournament-page-archiv\"]')))\n",
    "    elements = container.find_elements(By.XPATH, './/div[@class=\"archive__season\"]//a[@class=\"archive__text archive__text--clickable\"]')\n",
    "\n",
    "    for element in elements:\n",
    "        href = element.get_attribute('href')\n",
    "        campeonatos.append(href)"
   ]
  },
  {
   "cell_type": "code",
   "execution_count": 49,
   "metadata": {},
   "outputs": [
    {
     "name": "stdout",
     "output_type": "stream",
     "text": [
      "['https://www.flashscore.com.br/basquete/brasil/nbb/classificacao', 'https://www.flashscore.com.br/basquete/brasil/nbb-2022-2023/classificacao', 'https://www.flashscore.com.br/basquete/brasil/nbb-2021-2022/classificacao', 'https://www.flashscore.com.br/basquete/brasil/nbb-2020-2021/classificacao', 'https://www.flashscore.com.br/basquete/brasil/nbb-2019-2020/classificacao', 'https://www.flashscore.com.br/basquete/brasil/nbb-2018-2019/classificacao', 'https://www.flashscore.com.br/basquete/brasil/nbb-2017-2018/classificacao', 'https://www.flashscore.com.br/basquete/brasil/nbb-2016-2017/classificacao', 'https://www.flashscore.com.br/basquete/brasil/nbb-2015-2016/classificacao', 'https://www.flashscore.com.br/basquete/brasil/nbb-2014-2015/classificacao', 'https://www.flashscore.com.br/basquete/brasil/nbb-2013-2014/classificacao', 'https://www.flashscore.com.br/basquete/brasil/nbb-2012-2013/classificacao', 'https://www.flashscore.com.br/basquete/brasil/nbb-2011-2012/classificacao', 'https://www.flashscore.com.br/basquete/brasil/nbb-2010-2011/classificacao', 'https://www.flashscore.com.br/basquete/brasil/nbb-2009-2010/classificacao', 'https://www.flashscore.com.br/basquete/brasil/nbb-2008-2009/classificacao', 'https://www.flashscore.com.br/basquete/brasil/lbf-fem/classificacao', 'https://www.flashscore.com.br/basquete/brasil/lbf-fem-2023/classificacao', 'https://www.flashscore.com.br/basquete/brasil/lbf-fem-2022/classificacao', 'https://www.flashscore.com.br/basquete/brasil/lbf-fem-2020-2021/classificacao', 'https://www.flashscore.com.br/basquete/brasil/lbf-fem-2019-2020/classificacao', 'https://www.flashscore.com.br/basquete/brasil/lbf-fem-2018-2019/classificacao', 'https://www.flashscore.com.br/basquete/brasil/lbf-fem-2017-2018/classificacao', 'https://www.flashscore.com.br/basquete/brasil/lbf-fem-2016-2017/classificacao', 'https://www.flashscore.com.br/basquete/brasil/lbf-fem-2015-2016/classificacao', 'https://www.flashscore.com.br/basquete/brasil/lbf-fem-2014-2015/classificacao', 'https://www.flashscore.com.br/basquete/brasil/lbf-fem-2013-2014/classificacao', 'https://www.flashscore.com.br/basquete/brasil/lbf-fem-2012-2013/classificacao', 'https://www.flashscore.com.br/basquete/brasil/lbf-fem-2011-2012/classificacao']\n"
     ]
    },
    {
     "data": {
      "text/plain": [
       "29"
      ]
     },
     "execution_count": 49,
     "metadata": {},
     "output_type": "execute_result"
    }
   ],
   "source": [
    "campeonatos = [elemento + 'classificacao' for elemento in campeonatos]\n",
    "print(campeonatos)\n",
    "len(campeonatos)"
   ]
  },
  {
   "cell_type": "code",
   "execution_count": 50,
   "metadata": {},
   "outputs": [
    {
     "name": "stdout",
     "output_type": "stream",
     "text": [
      "Tempo limite atingido para o link: https://www.flashscore.com.br/basquete/brasil/nbb-2009-2010/classificacao\n"
     ]
    }
   ],
   "source": [
    "service = Service(ChromeDriverManager().install())\n",
    "driver = webdriver.Chrome(service=service)\n",
    "campeonatos = ['https://www.flashscore.com.br/basquete/brasil/nbb/classificacao/#/YoHo8tL3/table/overall', 'https://www.flashscore.com.br/basquete/brasil/cbb/classificacao/#/rwzzGChm/table/overall', 'https://www.flashscore.com.br/basquete/brasil/lbf-fem/classificacao/#/tvavA2ji/table/overall', 'https://www.flashscore.com.br/basquete/espanha/acb/classificacao/#/jXKUPnBh/table/overall', 'https://www.flashscore.com.br/basquete/eua/nba/classificacao/#/4CS5kbsl/table/overall', 'https://www.flashscore.com.br/basquete/italia/liga-a/classificacao/#/WUE5Rtzp/table/overall', 'https://www.flashscore.com.br/basquete/europa/liga-europeia/classificacao/#/rk6XmKwt/table/overall', 'https://www.flashscore.com.br/basquete/europa/euro-taca/classificacao/#/pUO1WI85/table/overall', 'https://www.flashscore.com.br/basquete/mundo/campeonato-mundial/classificacao/#/YogyQK4e/table/overall', 'https://www.flashscore.com.br/basquete/mundo/liga-dos-campeoes-das-americas/classificacao/#/ERVOaeCT/table', 'https://www.flashscore.com.br/basquete/mundo/americup/classificacao/#/CtGHBMoM/table/overall']\n",
    "for website in campeonatos:\n",
    "    driver.maximize_window()\n",
    "    driver.get(website)\n",
    "\n",
    "for link in campeonatos:\n",
    "    try:\n",
    "        driver.get(link)\n",
    "\n",
    "        # Espera por até 10 segundos até que o elemento esteja presente\n",
    "        WebDriverWait(driver, 10).until(EC.presence_of_element_located((By.XPATH, '//div[@class=\"tableCellParticipant__block\"]')))\n",
    "        div_participant_blocks = driver.find_elements(By.XPATH, '//div[@class=\"tableCellParticipant__block\"]')\n",
    "\n",
    "        for div_participant_block in div_participant_blocks:\n",
    "            elementos_a = div_participant_block.find_elements(By.XPATH, './/a[@class=\"tableCellParticipant__name\"]')\n",
    "\n",
    "            for elemento in elementos_a:\n",
    "                href_2 = elemento.get_attribute('href')\n",
    "                equipes.append(href_2)\n",
    "\n",
    "    except TimeoutException:\n",
    "        print(f\"Tempo limite atingido para o link: {link}\")"
   ]
  },
  {
   "cell_type": "code",
   "execution_count": 51,
   "metadata": {},
   "outputs": [
    {
     "name": "stdout",
     "output_type": "stream",
     "text": [
      "['https://www.flashscore.com.br/equipe/uninassau/O6rsupo3/elenco', 'https://www.flashscore.com.br/equipe/uniao-corinthians/4tVVeMVq/elenco', 'https://www.flashscore.com.br/equipe/brasilia/4lUWsMQB/elenco', 'https://www.flashscore.com.br/equipe/unitri-universo/nLEkokRc/elenco', 'https://www.flashscore.com.br/equipe/sesi-araraquara/rqgbAyaG/elenco', 'https://www.flashscore.com.br/equipe/caxias-do-sul/2Rx5IG9O/elenco', 'https://www.flashscore.com.br/equipe/suzano/25HLqG62/elenco', 'https://www.flashscore.com.br/equipe/rio-claro/OSHDAXo5/elenco', 'https://www.flashscore.com.br/equipe/guaru/tzXY19LQ/elenco', 'https://www.flashscore.com.br/equipe/palmeiras/tdGPrzM8/elenco', 'https://www.flashscore.com.br/equipe/corinthians-paulista/IVE5O0Oa/elenco', 'https://www.flashscore.com.br/equipe/paulistano/rLZhOTth/elenco', 'https://www.flashscore.com.br/equipe/sao-jose/jBz9vSkn/elenco', 'https://www.flashscore.com.br/equipe/minas/pSzay44H/elenco', 'https://www.flashscore.com.br/equipe/vila-velha/bVv3zOJN/elenco', 'https://www.flashscore.com.br/equipe/tijuca/WScM8Ydc/elenco', 'https://www.flashscore.com.br/equipe/sao-paulo/YypeZ0aJ/elenco', 'https://www.flashscore.com.br/equipe/saldanha-da-gama/2TIQgoKo/elenco', 'https://www.flashscore.com.br/equipe/univates-bira/hhv7ZsZT/elenco', 'https://www.flashscore.com.br/equipe/limeira/xWtjXArJ/elenco', 'https://www.flashscore.com.br/equipe/brasilia/23ofxpkB/elenco', 'https://www.flashscore.com.br/equipe/americana/IPBaFrot/elenco', 'https://www.flashscore.com.br/equipe/barretos/KYyjwOFF/elenco', 'https://www.flashscore.com.br/equipe/araraquara/f1QYU1so/elenco', 'https://www.flashscore.com.br/equipe/jaragua/EeyfxrVL/elenco', 'https://www.flashscore.com.br/equipe/uninassau-basquete/nTBkogxn/elenco', 'https://www.flashscore.com.br/equipe/pinheiros/KfOswQZ4/elenco', 'https://www.flashscore.com.br/equipe/maranhao/bmVW9vFH/elenco', 'https://www.flashscore.com.br/equipe/assis/burnYjTC/elenco', 'https://www.flashscore.com.br/equipe/campo-mourao/zoURITRl/elenco', 'https://www.flashscore.com.br/equipe/vitoria-basquete-cecre/QBDgp9t4/elenco', 'https://www.flashscore.com.br/equipe/universo-vitoria/x0i7KgJ0/elenco', 'https://www.flashscore.com.br/equipe/rio-claro/px1tfUBj/elenco', 'https://www.flashscore.com.br/equipe/gloria/xOWbuaNi/elenco', 'https://www.flashscore.com.br/equipe/vasco-da-gama/8fGWaGa5/elenco', 'https://www.flashscore.com.br/equipe/sao-bernardo/ShjnDwFc/elenco', 'https://www.flashscore.com.br/equipe/sao-jose/4tEBCtVb/elenco', 'https://www.flashscore.com.br/equipe/ponta-grossa/M3C8Xzjk/elenco', 'https://www.flashscore.com.br/equipe/mogi/AVKTsfyF/elenco', 'https://www.flashscore.com.br/equipe/joinville/YZPDwn5h/elenco', 'https://www.flashscore.com.br/equipe/goiania/A59w4pN4/elenco', 'https://www.flashscore.com.br/equipe/funvic/tWdrBuHT/elenco', 'https://www.flashscore.com.br/equipe/bauru/hQH5u8zt/elenco', 'https://www.flashscore.com.br/equipe/unifacisa/fooizspD/elenco', 'https://www.flashscore.com.br/equipe/blumenau/MH8GB0p5/elenco', 'https://www.flashscore.com.br/equipe/sorocabana/EimR7hC3/elenco', 'https://www.flashscore.com.br/equipe/sodie-doces/8GsSriO5/elenco', 'https://www.flashscore.com.br/equipe/sao-caetano/hnOu8IqU/elenco', 'https://www.flashscore.com.br/equipe/presidente-venceslau/StCpk2Tm/elenco', 'https://www.flashscore.com.br/equipe/corinthians/Krg5wxyG/elenco', 'https://www.flashscore.com.br/equipe/ourinhos/QkF7DMFh/elenco', 'https://www.flashscore.com.br/equipe/pato/0AWmyNU6/elenco', 'https://www.flashscore.com.br/equipe/botafogo-rj/C02IOrql/elenco', 'https://www.flashscore.com.br/equipe/santo-andre/4QVSAKaB/elenco', 'https://www.flashscore.com.br/equipe/macae/StKY4Q7b/elenco', 'https://www.flashscore.com.br/equipe/aracatuba/ANYz9bUN/elenco', 'https://www.flashscore.com.br/equipe/recife/KKrQ3VjE/elenco', 'https://www.flashscore.com.br/equipe/sampaio/8bIkoJxs/elenco', 'https://www.flashscore.com.br/equipe/cearense/nercQR5s/elenco', 'https://www.flashscore.com.br/equipe/franca/CQOHx6Kb/elenco', 'https://www.flashscore.com.br/equipe/cerrado/zNcziIRQ/elenco', 'https://www.flashscore.com.br/equipe/vera-cruz-campinas/p43ZC1nH/elenco', 'https://www.flashscore.com.br/equipe/catanduva/WSF3E20n/elenco', 'https://www.flashscore.com.br/equipe/flamengo/tKHUh5Zi/elenco', 'https://www.flashscore.com.br/equipe/pro-esporte/2FYiLNUo/elenco', 'https://www.flashscore.com.br/equipe/sicredi/6VXov409/elenco']\n"
     ]
    },
    {
     "data": {
      "text/plain": [
       "66"
      ]
     },
     "execution_count": 51,
     "metadata": {},
     "output_type": "execute_result"
    }
   ],
   "source": [
    "equipes = list(set(equipes))\n",
    "equipes = [elemento + 'elenco' for elemento in equipes]\n",
    "print(equipes)\n",
    "len(equipes)"
   ]
  },
  {
   "cell_type": "code",
   "execution_count": 52,
   "metadata": {},
   "outputs": [],
   "source": [
    "for link_2 in equipes:\n",
    "    try:\n",
    "        driver.get(link_2)\n",
    "\n",
    "        elementos_nomes = driver.find_elements(By.CSS_SELECTOR, '#overall-all-table .lineupTable__cell--name')\n",
    "\n",
    "        # Adiciona o texto de cada elemento encontrado à lista 'nomes'\n",
    "        for elemento_nome in elementos_nomes:\n",
    "            nomes.append(elemento_nome.text)            \n",
    "\n",
    "    except TimeoutException:\n",
    "        print(f\"Tempo limite atingido para o link: {link_2}\")"
   ]
  },
  {
   "cell_type": "code",
   "execution_count": 53,
   "metadata": {},
   "outputs": [
    {
     "name": "stdout",
     "output_type": "stream",
     "text": [
      "['', '', '', '', '', '', '', '', '', '', '', '', 'Coimbra André', 'Arthur', 'Djokovic Radovan', 'Malachias Gabriel', 'Nunes Pedro', 'Ruiz Enzo', 'Stephens Kendall', 'JJ', 'Johnson Duane', 'Machado Luiz', 'Zanaki João', 'Silva Rodrigo', '', '', '', '', '', '', '', '', '', '', '', '', '', '', 'Aline Moura', 'Tati Castro', 'Beatriz', 'Bianca', 'Fernandes Débora', 'Jaqueline', 'Let Lopes', 'Maila', 'Feitosa da Silva Diully Nicole', 'Izabela', 'Jeanne', 'Sosso', 'Vitória', 'Camargo João', '', '', '', '', '', '', '', '', '', '', '', '', '', '', '', '', '', 'Rafa', 'Wesley Sena', 'Dawkins Kenny', 'Gabriel', 'Konsztadt Alejandro', 'Mogida Akin', 'Oliveira Elias', 'Alves da Silva Wesley', 'Boff Brayan', 'Chagas Vinícius', 'Conceicao Diego', 'Contreras Francisco', 'Cravero Leonardo', 'Mathias Thiago', 'Mogi', 'Pinto Borges Vitor', 'Barbosa Rodrigo', '', '', '', '', '', '', '', '', '', '', '', '', '', '', 'Hettsheimer Rafael', 'Rojas Lazaro', 'Borges Cauê', 'Clark Elyjah Cyres', 'Corazza Elinho', 'Landeira Gabriel', 'Pereira Kaique', 'Campos Gabriel', 'Cauê Lucas', 'Demetrio Leonardo', 'Ferreira Onwenu Daniel Ifedi', 'Gonçalves Isaac', 'Nascimento Raymundo Kauan', 'Santander Silvio', '', '', '', '', '', '', '', '', '', '', '', '', '', 'Victor Camilo', 'Abreu Leonardo', 'Atauri Lucas', 'Crescenzi Kevin', 'Ferreira Vinícius', 'Ferreyra Santiago', 'Victor', 'Braga Abreu Guilherme', 'Cardoso Bruno César', 'Doria Alex', 'Doria Lucas', 'Ruan', 'Ferracciu Conrado Demetrius', '', '', '', '', '', '', '', '', '', '', '', '', 'Figueredo Diego', 'Leão Augusto Cabral', 'Bernardi Arthur', 'Carbonari Renato', 'Chourio Pedro', 'Dos Santos Douglas', 'Leal Victor', 'Lema Leonardo', 'Nascimento Filipe', 'Pedro', 'Silvério Narcizio Vitor', 'Figueredo Sebastian Luis', '', '', '', '', '', '', '', '', '', '', '', 'Rafael Mineiro', 'Baralle Franco Andres', 'Fuzaro Danilo', 'Silva Gemerson', 'Vezaro Felipe', 'Duque Daniel', 'Fernando', 'Lelé', 'Lenz Renan', 'Paranhos', 'Costa Leonardo', '', '', '', '', '', '', '', '', '', '', '', '', '', '', '', 'Ansaloni Ralfi', 'Bennett Cordero', 'Betinho', 'Coelho Henrique', 'Fischer Ricardo', 'Gonçalves Calebe', 'Miller Malcolm', 'Nunes Thiago', 'Curnell Tyrone', 'Faverani Vitor', 'Igor Andrade', 'Miguel', 'Nique', 'Siewert Lucas', 'Mortari Bruno César', '', '', '', '', '', '', '', '', '', '', '', '', 'Alexandrino Fábio', 'Dalaqua Felipe', 'Alaekwe Christian', 'Bento Guilherme', 'Cooper Thomas', 'Da Costa Paulo', 'Ramos Deryk', 'Timotheo de Oliveira Luiz Gustavo Basilio', 'Vilarinho Gabriel', 'Lima Emerson', 'Tom', 'Chueri da Silva Barbosa André Luiz', '', '', '', '', '', '', '', '', '', '', '', '', '', '', 'Borovnjak Sasa', 'Enrico', 'Scheuer Paulo', 'Borges Adyel', 'Buffat Jonas Matheus', 'De Oliveira Jimmy', 'Faria Tiago', 'Guilherme', 'Ruivo Felipe', 'Aguerre Federico', 'Fachin Luiggi', 'Rasio Lisandro', 'de Melo Santos Agapy Samoel', 'Pelosini David', '', '', '', '', '', '', '', '', '', '', '', '', '', '', '', '', 'Conceição Serjão', 'Santana Tarek', 'Ale Alexsander', 'Basilio Gustavo', 'Brasil Lucas', 'De Araújo Miranda Lucas', 'Eugeniusz Matheus', 'Freitas Cauê', 'Gomes Humberto Luiz Gomes', 'Queiroz Cauã', 'Marquinhos Vieira', 'Mathias Thiago', 'Paulichi Rafael', 'Russo Fabricio', 'Weber Matheus', 'Figueiro Alves Leonardo', '', '', '', '', '', '', '', '', '', '', '', '', '', '', '', '', 'Luiz Gustavo', 'Lupa Santos', 'Ware Chris', 'Arthur Arthur', 'Barry', 'Colina', 'Guilherme Lucas', 'Lacerda Lucas', 'Lessa Guilherme', 'Stallworth Shamell', 'Vitinho', 'Joshua', 'Oliveira Vinícius', 'Pastor', 'Traldi', 'Penna Fernando', '', '', '', '', '', '', '', '', '', '', '', '', '', '', 'Da Cruz Felipe', 'Maciel Matheus', 'Brite Dontrell', 'Cabrera Martin Andres', 'Gustavo', 'Sacco Gemadinha', 'Taylor Larry', 'Garcia Alex', 'Hollowell Jeremy', 'Marcos João', 'Mendonça Pedro', 'Rodrigues Anderson', 'Guerra Jorge', 'Martins Paulo Cezar', '', '', '', '', '', '', '', '', '', '', '', '', 'Cardoso Lucas', 'Corvalan Facundo', 'Ferreira Antônio', 'Gaskins Trevor', 'Lersch da Silva Vithor Eli', 'Solanas Matias', 'Bresolin Goes André Luiz', 'Hubner Guilherme', 'Nesbitt David', 'Rachel Rafael', 'Santo Gerson', 'Guidetti César', '', '', '', '', '', '', '', '', '', '', '', '', '', '', '', '', '', 'Macedo Novaes Gabriel', 'Barnes Nathaniel', 'Bernardo Rocha', 'De Souza Michel', 'Gustavo', 'Pecos Arthur', 'Penteado Danilo', 'Verissimo Fabricio', 'Anderson Jr', 'Bonfim Custodio Matheus', 'Capellaro Eduardo', 'Magna da Silva Guilherme', 'Materan Jose', 'Silva Victor', 'Sommer Eduardo', 'Souza Gabriel', 'Clodoaldo Leite Jece', '', '', '', '', '', '', '', '', '', '', '', '', '', '', '', '', '', '', '', '', '', 'Alcassa Augusto', 'Fernandes Lucas', 'Franca João', 'Vitor João', 'Andrade Lucas', 'Borges dos Santos Cauê', 'Darington Hobson', 'Luan Rodrigues', 'Matheusinho Marcos Vinícius', 'Nunes Fellipe', 'Santiago Ramiro', 'Smith Jamaal', 'Thornton Isaac', 'Vieira Patrick', 'Zibecchi Lucas', 'Barbosa Lucão', 'Giga', 'Guilherme Estevao', 'Matias Emanuel', 'Yago Ewerton José', 'Palmier Miguel', '', '', '', '', '', '', '', '', '', '', '', 'Lau', 'Glenda', 'Lays', 'Prande Freitas Marcella', 'Tassia', 'Evelyn', 'Melissa', 'Ribeiro', 'Sassá', 'Yasmim', 'De Souza Rafael Luiz', '', '', '', '', '', '', '', '', '', '', '', '', '', 'Amorim Samuel', 'Bueno Cassiano', 'Buford William', 'Carvalho Eddy', 'Orresta Sebastian', 'Salsamendi Fernando', 'Soares Bruno César', 'Ewing Eden', 'Fernandes Gabriel', 'Mcclanahan Dexter', 'Nunes Douglas', 'Queiros Filipe', 'dos Santos Soares Flávio Aurélio', '', '', '', '', '', '', '', '', '', '', '', '', '', '', '', 'Wesley', 'de Almeida Joao Paulo', 'Barbosa Paulo Henrique', 'Borges Alexey', 'Guillent Heissler', 'Hinkle Charles', 'Jackson David', 'Machini Costa João Paulo', 'Scala Santiago', 'Dias Lucas', 'Dos Santos Jhonatan', 'Fernandes Nathan', 'Marília Edu', 'Márcio', 'Garcia Hélio', '', '', '', '', '', '', '', '', '', '', '', '', '', '', '', 'da Silva Waldemar Maicon Douglas', 'Gillard Grantham', 'Gui Santos', 'Motta Eduardo', 'Rossetto Davi', 'Silva Buiu', 'Daniel', 'Gomes Jonathan', 'Green III. William Jerarld', 'Guimarães Fernando', 'Honorato Italo', 'Seixas Henrique', 'Tiago', 'Marrelli Regis', 'Rossi Michael', '', '', '', '', '', '', '', '', '', '', '', '', '', '', '', '', 'Tavares Maique', 'Balbi Franco', 'Cuello Martin', 'Gueiros Matheus', 'Leoni', 'Machado Scott', 'Motta Filipe', 'Deodato Guilherme Pereira', 'Devon Scott', 'Fernandes Emanuel', 'Filipovity Marko', 'Gonçalves Kayo', 'Jau', 'Louzada Marcos', 'Rodriguez Olivinha', 'de Conti Gustavo']\n"
     ]
    },
    {
     "data": {
      "text/plain": [
       "600"
      ]
     },
     "execution_count": 53,
     "metadata": {},
     "output_type": "execute_result"
    }
   ],
   "source": [
    "print(nomes)\n",
    "len(nomes)"
   ]
  },
  {
   "cell_type": "code",
   "execution_count": 54,
   "metadata": {},
   "outputs": [
    {
     "name": "stdout",
     "output_type": "stream",
     "text": [
      "['De Souza Rafael Luiz', 'Enrico', 'Dos Santos Jhonatan', 'Vitória', 'Machado Scott', 'Hettsheimer Rafael', 'Motta Eduardo', 'Arthur', 'Rachel Rafael', 'Gustavo', 'Coelho Henrique', 'Nascimento Raymundo Kauan', 'Ramos Deryk', 'Da Cruz Felipe', 'Materan Jose', 'Bento Guilherme', 'Marrelli Regis', 'Louzada Marcos', 'Barbosa Rodrigo', 'Chourio Pedro', 'Giga', 'Deodato Guilherme Pereira', 'Silva Victor', 'Mendonça Pedro', 'Ale Alexsander', 'Penna Fernando', 'da Silva Waldemar Maicon Douglas', 'Wesley Sena', 'Melissa', 'Borges Adyel', 'Carvalho Eddy', 'Chueri da Silva Barbosa André Luiz', 'Buford William', 'Fachin Luiggi', 'Basilio Gustavo', 'Marcos João', 'Aguerre Federico', 'Vitinho', 'Machini Costa João Paulo', 'Motta Filipe', 'Colina', 'Russo Fabricio', 'Martins Paulo Cezar', 'Mcclanahan Dexter', 'Wesley', 'Jau', 'Pelosini David', 'Clodoaldo Leite Jece', 'Fernandes Gabriel', 'Sassá', 'Tiago', 'Sosso', 'Amorim Samuel', 'Penteado Danilo', 'Garcia Hélio', 'Balbi Franco', 'Luiz Gustavo', 'Lenz Renan', 'Cauê Lucas', 'Nique', 'Pecos Arthur', 'Salsamendi Fernando', 'Rodriguez Olivinha', 'Conceição Serjão', 'Atauri Lucas', 'Scala Santiago', 'Gomes Humberto Luiz Gomes', 'Nunes Douglas', 'Dawkins Kenny', 'Timotheo de Oliveira Luiz Gustavo Basilio', 'Ferreira Onwenu Daniel Ifedi', 'Arthur Arthur', 'Joshua', 'Verissimo Fabricio', 'Yago Ewerton José', 'Gui Santos', 'Contreras Francisco', 'Sacco Gemadinha', 'Gueiros Matheus', 'Fernandes Emanuel', 'Miguel', 'Santana Tarek', 'Luan Rodrigues', 'Pastor', 'Marília Edu', 'Matheusinho Marcos Vinícius', 'De Oliveira Jimmy', 'Alves da Silva Wesley', 'Boff Brayan', 'Taylor Larry', 'Campos Gabriel', 'Gaskins Trevor', 'Solanas Matias', 'Bresolin Goes André Luiz', 'Vitor João', 'Gonçalves Isaac', 'Queiros Filipe', 'Silva Buiu', 'Da Costa Paulo', 'Braga Abreu Guilherme', 'Ware Chris', 'Dos Santos Douglas', 'Curnell Tyrone', 'Macedo Novaes Gabriel', 'Lema Leonardo', 'Guilherme Estevao', 'Thornton Isaac', 'dos Santos Soares Flávio Aurélio', 'Evelyn', 'Barry', 'Zibecchi Lucas', 'Let Lopes', 'JJ', 'Crescenzi Kevin', 'Santander Silvio', 'Miller Malcolm', 'Alaekwe Christian', 'Brasil Lucas', 'Lessa Guilherme', 'Alexandrino Fábio', 'Guerra Jorge', 'Borges Cauê', 'Souza Gabriel', 'Igor Andrade', 'Costa Leonardo', 'Jackson David', 'Siewert Lucas', 'Barnes Nathaniel', 'Nascimento Filipe', 'Capellaro Eduardo', 'Mathias Thiago', 'Machado Luiz', 'Santiago Ramiro', 'Guillent Heissler', 'Devon Scott', 'Beatriz', 'Andrade Lucas', 'Mogida Akin', 'Tati Castro', 'Fernandes Débora', 'Buffat Jonas Matheus', 'Lima Emerson', 'Maila', 'Cardoso Bruno César', 'Faria Tiago', 'Ferreira Antônio', 'Daniel', 'Victor', 'Brite Dontrell', 'Jeanne', 'Camargo João', 'Gonçalves Calebe', 'Mortari Bruno César', 'Pereira Kaique', 'Konsztadt Alejandro', 'Barbosa Lucão', 'Marquinhos Vieira', 'Doria Lucas', 'Ribeiro', 'Ruivo Felipe', 'Vilarinho Gabriel', 'Lau', 'Pedro', 'Bernardo Rocha', 'Silvério Narcizio Vitor', 'de Melo Santos Agapy Samoel', 'Oliveira Elias', 'Gillard Grantham', 'Rossetto Davi', 'Landeira Gabriel', 'Bennett Cordero', 'Freitas Cauê', 'Betinho', 'Gonçalves Kayo', 'Demetrio Leonardo', 'Hinkle Charles', 'Eugeniusz Matheus', 'Prande Freitas Marcella', 'Maciel Matheus', 'Bernardi Arthur', 'Guilherme Lucas', 'Anderson Jr', 'Corvalan Facundo', 'Vezaro Felipe', 'Paranhos', 'Bonfim Custodio Matheus', 'Soares Bruno César', 'Ferracciu Conrado Demetrius', 'Victor Camilo', 'Figueredo Diego', 'Carbonari Renato', 'Figueredo Sebastian Luis', 'Ferreira Vinícius', 'Fernando', 'Dias Lucas', 'Márcio', 'Rossi Michael', 'Zanaki João', 'Borges Alexey', 'Hollowell Jeremy', 'Rodrigues Anderson', 'Lersch da Silva Vithor Eli', 'Guidetti César', 'Darington Hobson', 'Vieira Patrick', 'Barbosa Paulo Henrique', 'Malachias Gabriel', 'Nunes Thiago', 'Figueiro Alves Leonardo', 'Bueno Cassiano', 'Bianca', 'Abreu Leonardo', 'de Almeida Joao Paulo', 'Seixas Henrique', 'Corazza Elinho', 'Johnson Duane', 'Silva Gemerson', 'Borovnjak Sasa', 'Jaqueline', 'Garcia Alex', 'Cravero Leonardo', 'Honorato Italo', 'Ewing Eden', 'Traldi', 'Pinto Borges Vitor', 'Mogi', 'Glenda', 'Nunes Pedro', 'Ansaloni Ralfi', 'Faverani Vitor', 'Chagas Vinícius', 'Lays', 'Cabrera Martin Andres', 'Rafael Mineiro', 'de Conti Gustavo', 'De Araújo Miranda Lucas', 'Doria Alex', 'Filipovity Marko', 'Leão Augusto Cabral', 'Tom', 'Queiroz Cauã', 'Fischer Ricardo', 'Sommer Eduardo', 'De Souza Michel', 'Aline Moura', 'Tavares Maique', 'Yasmim', 'Guimarães Fernando', 'Cooper Thomas', 'Smith Jamaal', 'Cuello Martin', 'Clark Elyjah Cyres', 'Baralle Franco Andres', 'Leoni', 'Fuzaro Danilo', 'Nunes Fellipe', 'Gomes Jonathan', 'Hubner Guilherme', 'Scheuer Paulo', 'Orresta Sebastian', 'Lelé', 'Leal Victor', 'Lupa Santos', 'Guilherme', 'Coimbra André', 'Fernandes Nathan', 'Gabriel', 'Cardoso Lucas', 'Rojas Lazaro', 'Ruan', 'Magna da Silva Guilherme', 'Ruiz Enzo', 'Djokovic Radovan', 'Weber Matheus', 'Nesbitt David', 'Tassia', 'Franca João', 'Alcassa Augusto', 'Rasio Lisandro', 'Green III. William Jerarld', 'Izabela', 'Fernandes Lucas', 'Santo Gerson', 'Silva Rodrigo', 'Paulichi Rafael', 'Stallworth Shamell', 'Ferreyra Santiago', 'Conceicao Diego', 'Palmier Miguel', 'Rafa', 'Borges dos Santos Cauê', 'Stephens Kendall', 'Matias Emanuel', 'Feitosa da Silva Diully Nicole', 'Lacerda Lucas', 'Oliveira Vinícius', 'Dalaqua Felipe', 'Duque Daniel']\n"
     ]
    },
    {
     "data": {
      "text/plain": [
       "298"
      ]
     },
     "execution_count": 54,
     "metadata": {},
     "output_type": "execute_result"
    }
   ],
   "source": [
    "nomes = [nome for nome in nomes if nome.strip() != '']\n",
    "nomes = list(set(nomes))\n",
    "print(nomes)\n",
    "len(nomes)"
   ]
  },
  {
   "cell_type": "code",
   "execution_count": 57,
   "metadata": {},
   "outputs": [],
   "source": [
    "nomes = list(set(nomes))"
   ]
  },
  {
   "cell_type": "code",
   "execution_count": 58,
   "metadata": {},
   "outputs": [],
   "source": [
    "df_list = pd.DataFrame({'Membro': nomes})\n",
    "df_list.to_csv('Membro Jogos Flashscore Basketball.csv', index=False)"
   ]
  }
 ],
 "metadata": {
  "kernelspec": {
   "display_name": "Python 3",
   "language": "python",
   "name": "python3"
  },
  "language_info": {
   "codemirror_mode": {
    "name": "ipython",
    "version": 3
   },
   "file_extension": ".py",
   "mimetype": "text/x-python",
   "name": "python",
   "nbconvert_exporter": "python",
   "pygments_lexer": "ipython3",
   "version": "3.11.4"
  }
 },
 "nbformat": 4,
 "nbformat_minor": 2
}
